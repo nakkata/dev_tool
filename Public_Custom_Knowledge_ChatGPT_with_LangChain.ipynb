{
  "nbformat": 4,
  "nbformat_minor": 0,
  "metadata": {
    "colab": {
      "provenance": [],
      "include_colab_link": true
    },
    "kernelspec": {
      "name": "python3",
      "display_name": "Python 3"
    },
    "language_info": {
      "name": "python"
    },
    "widgets": {
      "application/vnd.jupyter.widget-state+json": {
        "d0ac44d64b7c4a05a9ef7b98857fc726": {
          "model_module": "@jupyter-widgets/controls",
          "model_name": "TextModel",
          "model_module_version": "1.5.0",
          "state": {
            "_dom_classes": [],
            "_model_module": "@jupyter-widgets/controls",
            "_model_module_version": "1.5.0",
            "_model_name": "TextModel",
            "_view_count": null,
            "_view_module": "@jupyter-widgets/controls",
            "_view_module_version": "1.5.0",
            "_view_name": "TextView",
            "continuous_update": true,
            "description": "",
            "description_tooltip": null,
            "disabled": false,
            "layout": "IPY_MODEL_7be171d232b94320bf298b042c96fe6c",
            "placeholder": "Please enter your question:",
            "style": "IPY_MODEL_43fa42160b6c4d4a8a3f49f0ae866bc1",
            "value": ""
          }
        },
        "7be171d232b94320bf298b042c96fe6c": {
          "model_module": "@jupyter-widgets/base",
          "model_name": "LayoutModel",
          "model_module_version": "1.2.0",
          "state": {
            "_model_module": "@jupyter-widgets/base",
            "_model_module_version": "1.2.0",
            "_model_name": "LayoutModel",
            "_view_count": null,
            "_view_module": "@jupyter-widgets/base",
            "_view_module_version": "1.2.0",
            "_view_name": "LayoutView",
            "align_content": null,
            "align_items": null,
            "align_self": null,
            "border": null,
            "bottom": null,
            "display": null,
            "flex": null,
            "flex_flow": null,
            "grid_area": null,
            "grid_auto_columns": null,
            "grid_auto_flow": null,
            "grid_auto_rows": null,
            "grid_column": null,
            "grid_gap": null,
            "grid_row": null,
            "grid_template_areas": null,
            "grid_template_columns": null,
            "grid_template_rows": null,
            "height": null,
            "justify_content": null,
            "justify_items": null,
            "left": null,
            "margin": null,
            "max_height": null,
            "max_width": null,
            "min_height": null,
            "min_width": null,
            "object_fit": null,
            "object_position": null,
            "order": null,
            "overflow": null,
            "overflow_x": null,
            "overflow_y": null,
            "padding": null,
            "right": null,
            "top": null,
            "visibility": null,
            "width": null
          }
        },
        "43fa42160b6c4d4a8a3f49f0ae866bc1": {
          "model_module": "@jupyter-widgets/controls",
          "model_name": "DescriptionStyleModel",
          "model_module_version": "1.5.0",
          "state": {
            "_model_module": "@jupyter-widgets/controls",
            "_model_module_version": "1.5.0",
            "_model_name": "DescriptionStyleModel",
            "_view_count": null,
            "_view_module": "@jupyter-widgets/base",
            "_view_module_version": "1.2.0",
            "_view_name": "StyleView",
            "description_width": ""
          }
        }
      }
    }
  },
  "cells": [
    {
      "cell_type": "markdown",
      "metadata": {
        "id": "view-in-github",
        "colab_type": "text"
      },
      "source": [
        "<a href=\"https://colab.research.google.com/github/nakkata/dev_tool/blob/main/Public_Custom_Knowledge_ChatGPT_with_LangChain.ipynb\" target=\"_parent\"><img src=\"https://colab.research.google.com/assets/colab-badge.svg\" alt=\"Open In Colab\"/></a>"
      ]
    },
    {
      "cell_type": "markdown",
      "source": [
        "# LangChainを使ってChatGPTに独自データに関する質問に回答してもらう\n",
        "\n",
        "このサンプルでは、インターネット上からダウンロードしたPDFファイルに関する質問に対しての回答をしてもらいます。\n",
        "PDFファイルはインターネットからダウンロードします。\n",
        "URLを変更するなどすることで、独自のPDFファイルを代わりに読み込ませることも可能です。\n",
        "\n",
        "\n",
        "以下に処理の概要を示します。\n",
        "\n",
        "0.   OpenAPIキーの設定と、関連ライブラリのインストールとインポート\n",
        "1.   PDFをロードし、LangChainを使ってチャンクに分割する\n",
        "2.   テキスト情報を数値化（Embedding)し、保存する\n",
        "3.   データ取得関数を作成する。\n",
        "4.   チャットbotの作成\n",
        "\n",
        "こちらの記事は、Liam Ottleyさんの記事を参考にして独自の情報を追加しています。  \n",
        "動画は以下のYoutubeからご参照ください。\n",
        "  [YouTube](https://youtube.com/@LiamOttley)\n",
        "\n",
        "\n",
        "\n"
      ],
      "metadata": {
        "id": "_x1GI7Fo8Y7x"
      }
    },
    {
      "cell_type": "code",
      "source": [],
      "metadata": {
        "id": "IoV3IUyhfG95"
      },
      "execution_count": null,
      "outputs": []
    },
    {
      "cell_type": "markdown",
      "source": [
        "# 0. OpenAPIキーの設定と、関連ライブラリのインストール\n",
        "利用するライブラリをpipを使ってインストールします。"
      ],
      "metadata": {
        "id": "Q24Y-g6h-Bg0"
      }
    },
    {
      "cell_type": "code",
      "source": [
        "# RUN THIS CELL FIRST!//\n",
        "!pip install -q langchain==0.0.150 pypdf pandas matplotlib tiktoken textract transformers openai faiss-cpu requests beautifulsoup4"
      ],
      "metadata": {
        "id": "gk2J2sYYjTkM"
      },
      "execution_count": null,
      "outputs": []
    },
    {
      "cell_type": "code",
      "source": [
        "import os\n",
        "import pandas as pd\n",
        "import requests\n",
        "import textract\n",
        "from bs4 import BeautifulSoup\n",
        "import matplotlib.pyplot as plt\n",
        "from transformers import GPT2TokenizerFast\n",
        "from langchain.document_loaders import PyPDFLoader\n",
        "from langchain.text_splitter import RecursiveCharacterTextSplitter\n",
        "from langchain.embeddings import OpenAIEmbeddings\n",
        "from langchain.vectorstores import FAISS\n",
        "from langchain.chains.question_answering import load_qa_chain\n",
        "from langchain.llms import OpenAI\n",
        "from langchain.chains import ConversationalRetrievalChain\n"
      ],
      "metadata": {
        "id": "l-uszlwN641q"
      },
      "execution_count": null,
      "outputs": []
    },
    {
      "cell_type": "markdown",
      "source": [
        "以下にOpenAIから取得したキーを設定します。キーは以下のURLから取得することができます。  \n",
        "（アカウントの作成が必要です）  \n",
        "https://platform.openai.com/account/api-keys\n",
        "\n"
      ],
      "metadata": {
        "id": "WAaaEtRPFzbF"
      }
    },
    {
      "cell_type": "code",
      "source": [
        "# ここにOpenAIから取得したキーを設定します。\n",
        "os.environ[\"OPENAI_API_KEY\"] = 'sk-sssss'"
      ],
      "metadata": {
        "id": "E2Buv5Y0uFr8"
      },
      "execution_count": null,
      "outputs": []
    },
    {
      "cell_type": "markdown",
      "source": [
        "インターネット上からPDFファイル（日本語で書かれたマニュアル）をダウンロードして、ローカルファイルとして保存します。"
      ],
      "metadata": {
        "id": "ewek40iOGMvY"
      }
    },
    {
      "cell_type": "code",
      "source": [
        "# インターネット上からマニュアルファイルをダウンロード（BuffaloTerastation)\n",
        "url = 'https://manual.buffalo.jp/buf-doc/35021178-39.pdf'\n",
        "response = requests.get(url)\n",
        "# Ensure that the request was successful\n",
        "if response.status_code == 200:\n",
        "    # Save the content of the response as a PDF file\n",
        "    with open('sample_document1.pdf', 'wb') as file:\n",
        "        file.write(response.content)\n",
        "else:\n",
        "    print(\"Error: Unable to download the PDF file. Status code:\", response.status_code)\n"
      ],
      "metadata": {
        "id": "oUtdaBE_PCim"
      },
      "execution_count": null,
      "outputs": []
    },
    {
      "cell_type": "code",
      "source": [
        "# インターネット上からマニュアルファイルをダウンロード（サイボウズOfficeユーザマニュアル）\n",
        "# url = 'https://jp.cybozu.help/o/pdf/manual_o_user.pdf'\n",
        "# response = requests.get(url)\n",
        "# # Ensure that the request was successful\n",
        "# if response.status_code == 200:\n",
        "#     # Save the content of the response as a PDF file\n",
        "#     with open('sample_document2.pdf', 'wb') as file:\n",
        "#         file.write(response.content)\n",
        "# else:\n",
        "#     print(\"Error: Unable to download the PDF file. Status code:\", response.status_code)\n"
      ],
      "metadata": {
        "id": "1alGwIy0XKyg"
      },
      "execution_count": null,
      "outputs": []
    },
    {
      "cell_type": "markdown",
      "source": [
        "# 1. データをダウンロードし、LangChainを使ってチャンクに分割する\n",
        "ここでは、自社の情報と仮定して、2つのPDFファイルを読み込みます。必要に応じて読み込むファイルを自社のマニュアルなどに置き換えてみてください。\n",
        "\n",
        "\n"
      ],
      "metadata": {
        "id": "RLULMPXa-Hu8"
      }
    },
    {
      "cell_type": "markdown",
      "source": [
        "### ドキュメント1のロード＆チャンク分割"
      ],
      "metadata": {
        "id": "dLLxjpeZtw71"
      }
    },
    {
      "cell_type": "code",
      "source": [
        "# ページごとに分割。この方法だと、メタデータの情報が取得できるので、マニュアルのページ数などを表示することも可能となるが、\n",
        "# トークンサイズが大きくなりがち。\n",
        "# また、PDFの様なページ分割されている情報がソースとなっている必要がある\n",
        "# Simple method - Split by pages\n",
        "# https://manual.buffalo.jp/buf-doc/35021178-39.pdf\n",
        "#loader = PyPDFLoader(\"/content/sample_data/buffalo_manual.pdf\")\n",
        "loader = PyPDFLoader(\"sample_document1.pdf\")\n",
        "pages = loader.load_and_split()\n",
        "print(pages[3])\n",
        "\n",
        "# SKIP TO STEP 2 IF YOU'RE USING THIS METHOD\n",
        "chunks = pages"
      ],
      "metadata": {
        "colab": {
          "base_uri": "https://localhost:8080/"
        },
        "id": "KH546j3nkFwX",
        "outputId": "5b033e14-7aea-4d4a-d571-d2e2a332856a"
      },
      "execution_count": null,
      "outputs": [
        {
          "output_type": "stream",
          "name": "stdout",
          "text": [
            "page_content='外付けUSBドライブを増設する  ............................................... 75\\nドライブの取り外し処理をする  ............................................... 76\\nファンクションボタンを使って取り外す  .......................................... 76\\n設定画面を使って取り外す  ................................................................ 77\\nドライブをチェックする  .......................................................... 78\\nSSDのTrimを設定する （TS5210DFシリーズのみ）  .................. 79\\nSSDのデータ保護機能について （TS5210DFシリーズのみ）  ....81\\n制限される機能 .................................................................................. 81\\nSSDの総書き込み容量の上限を設定する （TS5210DFシリーズの\\nみ） ............................................................................................ 83\\nS.M.A.R.T.で内蔵ドライブをチェックする  .............................. 84\\nS.M.A.R.T.を表示する  ....................................................................... 84\\nドライブ状態の判定のしかた  ............................................................ 86\\nドライブをフォーマットする  ................................................... 86\\nドライブを暗号化する  .............................................................. 88\\nドライブのデータを完全に消去する  ........................................ 89\\n完全フォーマットを実行する  ............................................................ 89\\nドライブ廃棄 データ消去機能を使用する  ......................................... 90\\n書き込める容量を制限する  ...................................................... 92\\nユーザーごとに容量を制限する （クォータ機能）  ............................... 92\\nグループごとに容量を制限する （クォータ機能）  ............................... 93\\nボリュームごとに容量を制限する  ..................................................... 95\\n本製品をiSCSIで操作する  ........................................................ 97\\nはじめに  ............................................................................................ 97\\nボリュームを作成する  ....................................................................... 98\\nボリュームに接続する  ..................................................................... 100\\nボリュームをフォーマットする  ...................................................... 102\\nボリュームを切断する  ..................................................................... 102\\n3' metadata={'source': 'sample_document1.pdf', 'page': 3}\n"
          ]
        }
      ]
    },
    {
      "cell_type": "markdown",
      "source": [
        "### ドキュメント2のロード＆チャンク分割\n",
        "\n"
      ],
      "metadata": {
        "id": "Lwj4TvTEtoje"
      }
    },
    {
      "cell_type": "code",
      "source": [
        "# # 上級者向けの方法　チャンクに分割。これだとメタデータの情報が取れない\n",
        "\n",
        "# # Step 1: Convert PDF to text\n",
        "# doc = textract.process(\"sample_document2.pdf\")\n",
        "# # Step 2: Save to .txt and reopen (helps prevent issues)\n",
        "# with open('attention_is_all_you_need.txt', 'w') as f:\n",
        "#     f.write(doc.decode('utf-8'))\n",
        "\n",
        "# with open('attention_is_all_you_need.txt', 'r') as f:\n",
        "#     text = f.read()\n",
        "\n",
        "# # Step 3: Create function to count tokens\n",
        "# tokenizer = GPT2TokenizerFast.from_pretrained(\"gpt2\")\n",
        "\n",
        "# def count_tokens(text: str) -> int:\n",
        "#     return len(tokenizer.encode(text))\n",
        "\n",
        "# # Step 4: Split text into chunks\n",
        "# text_splitter = RecursiveCharacterTextSplitter(\n",
        "#     # Set a really small chunk size, just to show.\n",
        "#     chunk_size = 512,\n",
        "#     chunk_overlap  = 24,\n",
        "#     length_function = count_tokens,\n",
        "# )\n",
        "\n",
        "# chunks2 = text_splitter.create_documents([text])"
      ],
      "metadata": {
        "id": "iADY2CXNlNq9"
      },
      "execution_count": null,
      "outputs": []
    },
    {
      "cell_type": "markdown",
      "source": [
        "## ドキュメント3のロード＆チャンク分割"
      ],
      "metadata": {
        "id": "iTVJ1a_puFcT"
      }
    },
    {
      "cell_type": "code",
      "source": [
        "# chank3つ目。3つ目は、インターネット上のドキュメントから情報を取得する\n",
        "url = \"https://mui.com/material-ui/getting-started/overview/\"\n",
        "response = requests.get(url)\n",
        "\n",
        "if response.status_code == 200:\n",
        "    html_content = response.text\n",
        "else:\n",
        "    print(\"Failed to fetch the webpage\")\n",
        "\n",
        "# インターネット上のサイトから抽出した情報をDBに入れる\n",
        "# Step 2: Save to .txt and reopen (helps prevent issues)\n",
        "with open('internet_info1.txt', 'w') as f:\n",
        "    f.write(html_content)\n",
        "\n",
        "with open('internet_info1.txt', 'r') as f:\n",
        "    text = f.read()\n",
        "\n",
        "# Step 3: Create function to count tokens\n",
        "tokenizer = GPT2TokenizerFast.from_pretrained(\"gpt2\")\n",
        "\n",
        "def count_tokens(text: str) -> int:\n",
        "    return len(tokenizer.encode(text))\n",
        "\n",
        "# Step 4: Split text into chunks\n",
        "text_splitter = RecursiveCharacterTextSplitter(\n",
        "    # Set a really small chunk size, just to show.\n",
        "    # chunk_size = 512,\n",
        "    chunk_size = 512,\n",
        "    chunk_overlap  = 24,\n",
        "    length_function = count_tokens,\n",
        ")\n",
        "\n",
        "chunks3 = text_splitter.create_documents([text])"
      ],
      "metadata": {
        "colab": {
          "base_uri": "https://localhost:8080/"
        },
        "id": "G53zpozKeZ3-",
        "outputId": "a674382b-6b07-4add-8de5-15e2059db5f4"
      },
      "execution_count": null,
      "outputs": [
        {
          "output_type": "stream",
          "name": "stderr",
          "text": [
            "Token indices sequence length is longer than the specified maximum sequence length for this model (40701 > 1024). Running this sequence through the model will result in indexing errors\n"
          ]
        }
      ]
    },
    {
      "cell_type": "markdown",
      "source": [
        "# 2. 読み込んだデータvector storeに保存する\n",
        "ここでは、これまでに読み込んだ3つの情報をVector storeに保存します。。\n",
        "Vector storeはいくつも種類がありますが、今回はFacebook製のFAISSを利用します。  \n",
        "\n",
        "\n",
        "> 利用可能なVectorStoreはこちらを参照してください。\n",
        "https://python.langchain.com/en/latest/modules/indexes/vectorstores.html#\n",
        "\n",
        "\n"
      ],
      "metadata": {
        "id": "_IlznUDK-i2m"
      }
    },
    {
      "cell_type": "code",
      "source": [
        "# Get embedding model\n",
        "embeddings = OpenAIEmbeddings()\n",
        "\n",
        "#  vector databaseの作成\n",
        "db = FAISS.from_documents(chunks+chunks3, embeddings)"
      ],
      "metadata": {
        "id": "92ObhTAKnZzQ"
      },
      "execution_count": null,
      "outputs": []
    },
    {
      "cell_type": "markdown",
      "source": [
        "# 3. データ取得関数のセットアップ\n",
        "\n",
        "次に、先ほど作ったFAISSのvector storeにqueryを投げてどの様なデータが返ってくるかを確認します。"
      ],
      "metadata": {
        "id": "2LPwdGDP-nPO"
      }
    },
    {
      "cell_type": "code",
      "source": [
        "query = \"ランプが点滅しているが、これは何が原因か？\"\n",
        "# FAISSに対して検索。検索は文字一致ではなく意味一致で検索する(Vector, Embbeding)\n",
        "docs = db.similarity_search(query)\n",
        "docs # ここで関係のありそうなデータが返ってきていることを確認できる"
      ],
      "metadata": {
        "colab": {
          "base_uri": "https://localhost:8080/"
        },
        "id": "RWP92zGg5Nb_",
        "outputId": "08887a31-466a-4ade-ba15-5daf931ff9ab"
      },
      "execution_count": null,
      "outputs": [
        {
          "output_type": "execute_result",
          "data": {
            "text/plain": [
              "[Document(page_content='電源ランプが点滅したまま点灯に変わらない\\n1 電源ボタンを約3秒間長押しして、 本製品の電源をOFFにします。\\n2 ファンクションボタンを押したまま、 電源ボタンを押します。 電源ボタンを放した後も、 ファンクション\\nボタンは約10秒間押し続けてください。\\n3 電源ランプが点滅から点灯に変わったら、 NAS Navigator2で本製品を検索し、 設定画面を開きます。\\n4 以下の画面が表示されます。 「セットアップ」 の下のプルダウンメニューで 「修復」 が選択されていること\\nを確認して、 ［セットアップ開始］ をクリックします。\\nメモ: 「セットアップ」 には 「修復」 以外にも以下のオプションが表示される場合があります。 それぞれの\\nオプションの動作は以下のとおりです。\\n• FW Ver維持 ： 本製品内蔵のドライブに保存されているファームウェアをそのまま使用します。\\n• 修復： 本製品のNANDフラッシュに保存されているファームウェアを使って本製品を修復します。\\n• フォーマット ： ドライブをフォーマットします。\\n5 「通信の確認」 画面が表示されます。 表示されている数字を正確に入力し、 ［OK］ をクリックします。\\n6 ファームウェアが再インストールされます。 完了したら、 ［OK］ をクリックします。\\n7 本製品は自動的にシャットダウンします。 電源ランプが消灯したら、 電源ボタンを押して起動します。\\n以上で、 電源ランプが点滅したままの状態から復旧する手順は完了です。 本製品が正常に起動しているか確認\\nしてください。\\nメモ: \\n• 上記手順で現象が改善されないときは、 もう一度初めから操作してください。 そのとき、 手順4の画面で 「最\\n後に正常起動したときの設定を復元する」 を選択して、 ［セットアップ開始］ をクリックしてください。 前回\\n正常に起動したときの設定が復元された状態で、 本製品が起動します。\\n323\\n第１２章\\u3000トラブルシューティングとメンテナンス', metadata={'source': 'sample_document1.pdf', 'page': 323}),\n",
              " Document(page_content='ステータスランプが赤色または緑色に点滅している場合、 ドライブを抜かないでください。 データの消\\n失、 本製品が故障する恐れがあります。\\n4 カートリッジごとドライブを手前に引き出し、 抜きます。\\n5 別売のドライブを、 取っ手が開いた状態で空のスロットに差し込みます。\\nΊΉͤ\\n308\\n第１０章\\u3000ドライブ故障時の交換手順', metadata={'source': 'sample_document1.pdf', 'page': 308}),\n",
              " Document(page_content='21 LINKランプ （緑）\\n点灯 ： リンクしている状態。\\n22 LINKランプ （橙）\\n点灯 ： 100 Mbps、 2.5 Gbps、 5 Gbpsのいずれかでリンクしている状態。\\n23 LINKランプ （緑）\\n点灯 ： 1000 Mbpsでリンクしている状態。\\n24 LINKランプ （青）\\n点灯 ： 10 Gbpsでリンクしている状態。\\n12ドライブ ラックマウントタイプ\\nTS51210RHシリーズ\\n8\\n9\\n10\\n12 14 13 15 16 17 18 1119\\n2221 20714\\n5\\n6\\n2\\n3\\nʽਜ਼\\u0edaʾ\\nʽഐ\\u0edaʾ\\n1 電源ボタン\\n電源をONまたはOFFにします。 警告音が鳴っているときに押すと、 警告音を止めることができます。\\n2 電源ランプ （緑）\\n点灯 ： 電源がONのとき。\\n点滅 ： 本製品を起動中または終了中のとき。\\nメモ: 15分経っても点滅から点灯に変わらない場合は、 正常に起動できていません。 第12章の 「電源ラン\\nプが点滅したまま点灯に変わらない」 （P . 323）に記載の手順を参照して復旧してください。\\n19\\n第１章\\u3000基本的な使い方', metadata={'source': 'sample_document1.pdf', 'page': 19}),\n",
              " Document(page_content='設定画面で本製品をシャットダウンまたは再起動する\\n設定画面で本製品をシャットダウンまたは再起動できます。\\n1 設定画面右上の \\n  をクリックします。\\n2 ［シャットダウン］ をクリックします。 再起動するときは、 ［再起動］ をクリックします。\\n3 ［はい］ をクリックします。\\n4 「通信の確認」 画面が表示されます。 表示されている数字を正確に入力し、 ［OK］ をクリックします。\\n本製品をシャットダウンしたときは、 電源ランプが消灯したら完了です。\\n本製品を再起動したときは、 電源ランプが点滅から点灯に変わったら完了です。\\n27\\n第１章\\u3000基本的な使い方', metadata={'source': 'sample_document1.pdf', 'page': 27})]"
            ]
          },
          "metadata": {},
          "execution_count": 48
        }
      ]
    },
    {
      "cell_type": "markdown",
      "source": [
        "## ユーザからのクエリを使って関連するデータを取得できる様にQAチェインを作成する\n",
        "\n",
        "ここで、これまでにロードしたドキュメントに書かれた情報に関する質問を投げてみて、期待する結果が返ってくるかどうかを確認します。\n",
        "\n",
        "\n",
        ">  以下コード内のtemperatureを変更することにより、情報の精度を上げることができます。(0-2までの値で指定）0にした場合、質問内容の回答がはっきりわからない場合はI don't knowと言われます。。\n",
        "\n"
      ],
      "metadata": {
        "id": "PcwebAXEyZVw"
      }
    },
    {
      "cell_type": "code",
      "source": [
        "# 得られた情報から回答を導き出すためのプロセスを以下の4つから選択する。いずれもProsとConsがあるため、適切なものを選択する必要がある。\n",
        "# staffing ... 得られた候補をそのままインプットとする\n",
        "# map_reduce ... 得られた候補のサマリをそれぞれ生成し、そのサマリのサマリを作ってインプットとする\n",
        "# map_rerank ... 得られた候補にそれぞれスコアを振って、いちばん高いものをインプットとして回答を得る\n",
        "# refine  ... 得られた候補のサマリを生成し、次にそのサマリと次の候補の様裏を作ることを繰り返す\n",
        "chain = load_qa_chain(OpenAI(temperature=0.1,max_tokens=1000), chain_type=\"stuff\")\n",
        "# p305に記載\n",
        "#query = \"ドライブのランプが赤色に点滅しているが、これは何が原因か？\"\n",
        "# p134に記載\n",
        "#query = \"どの様な時にメイン機が異常だと判断をしますか？\"\n",
        "query = \"バックアップにはどの様な方法がありますか？またその手順についておしえてください\"\n",
        "docs = db.similarity_search(query)\n",
        "# langchainを使って検索\n",
        "chain.run(input_documents=docs, question=query)"
      ],
      "metadata": {
        "colab": {
          "base_uri": "https://localhost:8080/",
          "height": 53
        },
        "id": "1Kv_sM8G5qAo",
        "outputId": "ca4ec823-d9a0-42f5-9d7f-cfb07093f533"
      },
      "execution_count": null,
      "outputs": [
        {
          "output_type": "execute_result",
          "data": {
            "text/plain": [
              "' バックアップには、「公開プロトコル」の「バックアップ」を使用する方法があります。手順としては、まず「バックアップディスクを追加」をクリックし、「公開プロトコル」の「バックアップ」にチェックマークを付けます。次に、バックアップ先の共有フォルダーに設定したバックアップアクセスキーを入力し、「追加」をクリックします。最後に、「バックアップアクセスキー」欄に任意の文字を入力し、「OK」をクリックします。'"
            ],
            "application/vnd.google.colaboratory.intrinsic+json": {
              "type": "string"
            }
          },
          "metadata": {},
          "execution_count": 49
        }
      ]
    },
    {
      "cell_type": "markdown",
      "source": [
        "# 4. チャットbotを作成する（Option)\n",
        "ここでは、これまでに読み込んだドキュメントを使って簡易のチャットボットを作成します。\n",
        "ここを実行するとダイアログが表示されますので、前に読み込ませたドキュメントに関する質問をして見てください。"
      ],
      "metadata": {
        "id": "U_nH1qoL-w--"
      }
    },
    {
      "cell_type": "code",
      "source": [
        "from IPython.display import display\n",
        "import ipywidgets as widgets\n",
        "\n",
        "# vextordbをretrieverとして使うconversation chainを作成します。これはチャット履歴の管理も可能にします。\n",
        "qa = ConversationalRetrievalChain.from_llm(OpenAI(temperature=0.1), db.as_retriever())"
      ],
      "metadata": {
        "id": "evF7_Dyhtcaf"
      },
      "execution_count": null,
      "outputs": []
    },
    {
      "cell_type": "code",
      "source": [
        "chat_history = []\n",
        "\n",
        "def on_submit(_):\n",
        "    query = input_box.value\n",
        "    input_box.value = \"\"\n",
        "\n",
        "    if query.lower() == 'exit':\n",
        "        print(\"Thank you for using the State of the Union chatbot!\")\n",
        "        return\n",
        "\n",
        "    result = qa({\"question\": query, \"chat_history\": chat_history})\n",
        "    chat_history.append((query, result['answer']))\n",
        "\n",
        "    display(widgets.HTML(f'<b>User:</b> {query}'))\n",
        "    display(widgets.HTML(f'<b><font color=\"blue\">Chatbot:</font></b> {result[\"answer\"]}'))\n",
        "\n",
        "print(\"Welcome to the Transformers chatbot! Type 'exit' to stop.\")\n",
        "\n",
        "input_box = widgets.Text(placeholder='Please enter your question:')\n",
        "input_box.on_submit(on_submit)\n",
        "\n",
        "display(input_box)"
      ],
      "metadata": {
        "colab": {
          "base_uri": "https://localhost:8080/",
          "height": 67,
          "referenced_widgets": [
            "d0ac44d64b7c4a05a9ef7b98857fc726",
            "7be171d232b94320bf298b042c96fe6c",
            "43fa42160b6c4d4a8a3f49f0ae866bc1"
          ]
        },
        "id": "-pHw5siewPNt",
        "outputId": "03645da4-06ee-4c45-da30-becc12e2f5d6"
      },
      "execution_count": null,
      "outputs": [
        {
          "output_type": "stream",
          "name": "stdout",
          "text": [
            "Welcome to the Transformers chatbot! Type 'exit' to stop.\n"
          ]
        },
        {
          "output_type": "display_data",
          "data": {
            "text/plain": [
              "Text(value='', placeholder='Please enter your question:')"
            ],
            "application/vnd.jupyter.widget-view+json": {
              "version_major": 2,
              "version_minor": 0,
              "model_id": "d0ac44d64b7c4a05a9ef7b98857fc726"
            }
          },
          "metadata": {}
        }
      ]
    }
  ]
}