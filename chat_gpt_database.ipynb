{
  "nbformat": 4,
  "nbformat_minor": 0,
  "metadata": {
    "colab": {
      "provenance": [],
      "include_colab_link": true
    },
    "kernelspec": {
      "name": "python3",
      "display_name": "Python 3"
    },
    "language_info": {
      "name": "python"
    },
    "widgets": {
      "application/vnd.jupyter.widget-state+json": {
        "09ae48e868b14387bbb50b05c3a41136": {
          "model_module": "@jupyter-widgets/controls",
          "model_name": "TextModel",
          "model_module_version": "1.5.0",
          "state": {
            "_dom_classes": [],
            "_model_module": "@jupyter-widgets/controls",
            "_model_module_version": "1.5.0",
            "_model_name": "TextModel",
            "_view_count": null,
            "_view_module": "@jupyter-widgets/controls",
            "_view_module_version": "1.5.0",
            "_view_name": "TextView",
            "continuous_update": true,
            "description": "",
            "description_tooltip": null,
            "disabled": false,
            "layout": "IPY_MODEL_cb6b03ff0151487298d8821586b3a79b",
            "placeholder": "Please enter your question:",
            "style": "IPY_MODEL_5011f7896bf24e7eb957d6c96c095612",
            "value": ""
          }
        },
        "cb6b03ff0151487298d8821586b3a79b": {
          "model_module": "@jupyter-widgets/base",
          "model_name": "LayoutModel",
          "model_module_version": "1.2.0",
          "state": {
            "_model_module": "@jupyter-widgets/base",
            "_model_module_version": "1.2.0",
            "_model_name": "LayoutModel",
            "_view_count": null,
            "_view_module": "@jupyter-widgets/base",
            "_view_module_version": "1.2.0",
            "_view_name": "LayoutView",
            "align_content": null,
            "align_items": null,
            "align_self": null,
            "border": null,
            "bottom": null,
            "display": null,
            "flex": null,
            "flex_flow": null,
            "grid_area": null,
            "grid_auto_columns": null,
            "grid_auto_flow": null,
            "grid_auto_rows": null,
            "grid_column": null,
            "grid_gap": null,
            "grid_row": null,
            "grid_template_areas": null,
            "grid_template_columns": null,
            "grid_template_rows": null,
            "height": null,
            "justify_content": null,
            "justify_items": null,
            "left": null,
            "margin": null,
            "max_height": null,
            "max_width": null,
            "min_height": null,
            "min_width": null,
            "object_fit": null,
            "object_position": null,
            "order": null,
            "overflow": null,
            "overflow_x": null,
            "overflow_y": null,
            "padding": null,
            "right": null,
            "top": null,
            "visibility": null,
            "width": null
          }
        },
        "5011f7896bf24e7eb957d6c96c095612": {
          "model_module": "@jupyter-widgets/controls",
          "model_name": "DescriptionStyleModel",
          "model_module_version": "1.5.0",
          "state": {
            "_model_module": "@jupyter-widgets/controls",
            "_model_module_version": "1.5.0",
            "_model_name": "DescriptionStyleModel",
            "_view_count": null,
            "_view_module": "@jupyter-widgets/base",
            "_view_module_version": "1.2.0",
            "_view_name": "StyleView",
            "description_width": ""
          }
        },
        "d7183f5b6a064a1f8b823855eb7b7552": {
          "model_module": "@jupyter-widgets/controls",
          "model_name": "HTMLModel",
          "model_module_version": "1.5.0",
          "state": {
            "_dom_classes": [],
            "_model_module": "@jupyter-widgets/controls",
            "_model_module_version": "1.5.0",
            "_model_name": "HTMLModel",
            "_view_count": null,
            "_view_module": "@jupyter-widgets/controls",
            "_view_module_version": "1.5.0",
            "_view_name": "HTMLView",
            "description": "",
            "description_tooltip": null,
            "layout": "IPY_MODEL_b80b39f1217046a183722ddc929c7114",
            "placeholder": "​",
            "style": "IPY_MODEL_010d24204bad4decb76e2d3590f7fa5a",
            "value": "<b>User:</b> MEXCBTとは何ですか"
          }
        },
        "b80b39f1217046a183722ddc929c7114": {
          "model_module": "@jupyter-widgets/base",
          "model_name": "LayoutModel",
          "model_module_version": "1.2.0",
          "state": {
            "_model_module": "@jupyter-widgets/base",
            "_model_module_version": "1.2.0",
            "_model_name": "LayoutModel",
            "_view_count": null,
            "_view_module": "@jupyter-widgets/base",
            "_view_module_version": "1.2.0",
            "_view_name": "LayoutView",
            "align_content": null,
            "align_items": null,
            "align_self": null,
            "border": null,
            "bottom": null,
            "display": null,
            "flex": null,
            "flex_flow": null,
            "grid_area": null,
            "grid_auto_columns": null,
            "grid_auto_flow": null,
            "grid_auto_rows": null,
            "grid_column": null,
            "grid_gap": null,
            "grid_row": null,
            "grid_template_areas": null,
            "grid_template_columns": null,
            "grid_template_rows": null,
            "height": null,
            "justify_content": null,
            "justify_items": null,
            "left": null,
            "margin": null,
            "max_height": null,
            "max_width": null,
            "min_height": null,
            "min_width": null,
            "object_fit": null,
            "object_position": null,
            "order": null,
            "overflow": null,
            "overflow_x": null,
            "overflow_y": null,
            "padding": null,
            "right": null,
            "top": null,
            "visibility": null,
            "width": null
          }
        },
        "010d24204bad4decb76e2d3590f7fa5a": {
          "model_module": "@jupyter-widgets/controls",
          "model_name": "DescriptionStyleModel",
          "model_module_version": "1.5.0",
          "state": {
            "_model_module": "@jupyter-widgets/controls",
            "_model_module_version": "1.5.0",
            "_model_name": "DescriptionStyleModel",
            "_view_count": null,
            "_view_module": "@jupyter-widgets/base",
            "_view_module_version": "1.2.0",
            "_view_name": "StyleView",
            "description_width": ""
          }
        },
        "a9bd5fc4a13d42e880a4191340913120": {
          "model_module": "@jupyter-widgets/controls",
          "model_name": "HTMLModel",
          "model_module_version": "1.5.0",
          "state": {
            "_dom_classes": [],
            "_model_module": "@jupyter-widgets/controls",
            "_model_module_version": "1.5.0",
            "_model_name": "HTMLModel",
            "_view_count": null,
            "_view_module": "@jupyter-widgets/controls",
            "_view_module_version": "1.5.0",
            "_view_name": "HTMLView",
            "description": "",
            "description_tooltip": null,
            "layout": "IPY_MODEL_1fcedc5a2aef4635a849be3ff114adc6",
            "placeholder": "​",
            "style": "IPY_MODEL_575756f22f9543afaf97851640653a15",
            "value": "<b><font color=\"blue\">Chatbot:</font></b>  MEXCBTは、メクビット学習システムのスタートアップガイドで、児童向けの学習プログラムです。"
          }
        },
        "1fcedc5a2aef4635a849be3ff114adc6": {
          "model_module": "@jupyter-widgets/base",
          "model_name": "LayoutModel",
          "model_module_version": "1.2.0",
          "state": {
            "_model_module": "@jupyter-widgets/base",
            "_model_module_version": "1.2.0",
            "_model_name": "LayoutModel",
            "_view_count": null,
            "_view_module": "@jupyter-widgets/base",
            "_view_module_version": "1.2.0",
            "_view_name": "LayoutView",
            "align_content": null,
            "align_items": null,
            "align_self": null,
            "border": null,
            "bottom": null,
            "display": null,
            "flex": null,
            "flex_flow": null,
            "grid_area": null,
            "grid_auto_columns": null,
            "grid_auto_flow": null,
            "grid_auto_rows": null,
            "grid_column": null,
            "grid_gap": null,
            "grid_row": null,
            "grid_template_areas": null,
            "grid_template_columns": null,
            "grid_template_rows": null,
            "height": null,
            "justify_content": null,
            "justify_items": null,
            "left": null,
            "margin": null,
            "max_height": null,
            "max_width": null,
            "min_height": null,
            "min_width": null,
            "object_fit": null,
            "object_position": null,
            "order": null,
            "overflow": null,
            "overflow_x": null,
            "overflow_y": null,
            "padding": null,
            "right": null,
            "top": null,
            "visibility": null,
            "width": null
          }
        },
        "575756f22f9543afaf97851640653a15": {
          "model_module": "@jupyter-widgets/controls",
          "model_name": "DescriptionStyleModel",
          "model_module_version": "1.5.0",
          "state": {
            "_model_module": "@jupyter-widgets/controls",
            "_model_module_version": "1.5.0",
            "_model_name": "DescriptionStyleModel",
            "_view_count": null,
            "_view_module": "@jupyter-widgets/base",
            "_view_module_version": "1.2.0",
            "_view_name": "StyleView",
            "description_width": ""
          }
        }
      }
    }
  },
  "cells": [
    {
      "cell_type": "markdown",
      "metadata": {
        "id": "view-in-github",
        "colab_type": "text"
      },
      "source": [
        "<a href=\"https://colab.research.google.com/github/nakkata/dev_tool/blob/main/chat_gpt_database.ipynb\" target=\"_parent\"><img src=\"https://colab.research.google.com/assets/colab-badge.svg\" alt=\"Open In Colab\"/></a>"
      ]
    },
    {
      "cell_type": "markdown",
      "source": [
        "# チャットGPTで社内ドキュメントの解析エンジンを作る"
      ],
      "metadata": {
        "id": "wZ3_7xOXqCEI"
      }
    },
    {
      "cell_type": "code",
      "source": [
        "# ChatGPTで解析\n",
        "!pip install openai==0.28.0\n",
        "!pip install pandas\n",
        "!pip install transformers==4.32.1\n",
        "!pip install langchain==0.0.279\n",
        "#!pip install beautifulsoup4==4.11.2\n",
        "!pip install textract\n",
        "#!pip install codecs\n",
        "#!pip install six==1.13.0\n",
        "!pip install requests\n",
        "!pip install pypdf\n",
        "!pip install tiktoken\n",
        "!pip install faiss-gpu\n",
        "\n",
        "# Webアプリ化\n",
        "!pip install streamlit==1.20.0 --quiet\n",
        "!pip install pyngrok==4.1.1 --quiet"
      ],
      "metadata": {
        "id": "AF7oS8SBp_bT",
        "outputId": "08e64b7d-7b7f-45d0-b2cc-c19bffef9604",
        "colab": {
          "base_uri": "https://localhost:8080/",
          "height": 1000
        }
      },
      "execution_count": 1,
      "outputs": [
        {
          "output_type": "stream",
          "name": "stdout",
          "text": [
            "Collecting openai==0.28.0\n",
            "  Downloading openai-0.28.0-py3-none-any.whl (76 kB)\n",
            "\u001b[?25l     \u001b[90m━━━━━━━━━━━━━━━━━━━━━━━━━━━━━━━━━━━━━━━━\u001b[0m \u001b[32m0.0/76.5 kB\u001b[0m \u001b[31m?\u001b[0m eta \u001b[36m-:--:--\u001b[0m\r\u001b[2K     \u001b[90m━━━━━━━━━━━━━━━━━━━━━━━━━━━━━━━━━━━━━━━━\u001b[0m \u001b[32m76.5/76.5 kB\u001b[0m \u001b[31m2.6 MB/s\u001b[0m eta \u001b[36m0:00:00\u001b[0m\n",
            "\u001b[?25hRequirement already satisfied: requests>=2.20 in /usr/local/lib/python3.10/dist-packages (from openai==0.28.0) (2.31.0)\n",
            "Requirement already satisfied: tqdm in /usr/local/lib/python3.10/dist-packages (from openai==0.28.0) (4.66.1)\n",
            "Requirement already satisfied: aiohttp in /usr/local/lib/python3.10/dist-packages (from openai==0.28.0) (3.8.6)\n",
            "Requirement already satisfied: charset-normalizer<4,>=2 in /usr/local/lib/python3.10/dist-packages (from requests>=2.20->openai==0.28.0) (3.3.0)\n",
            "Requirement already satisfied: idna<4,>=2.5 in /usr/local/lib/python3.10/dist-packages (from requests>=2.20->openai==0.28.0) (3.4)\n",
            "Requirement already satisfied: urllib3<3,>=1.21.1 in /usr/local/lib/python3.10/dist-packages (from requests>=2.20->openai==0.28.0) (2.0.7)\n",
            "Requirement already satisfied: certifi>=2017.4.17 in /usr/local/lib/python3.10/dist-packages (from requests>=2.20->openai==0.28.0) (2023.7.22)\n",
            "Requirement already satisfied: attrs>=17.3.0 in /usr/local/lib/python3.10/dist-packages (from aiohttp->openai==0.28.0) (23.1.0)\n",
            "Requirement already satisfied: multidict<7.0,>=4.5 in /usr/local/lib/python3.10/dist-packages (from aiohttp->openai==0.28.0) (6.0.4)\n",
            "Requirement already satisfied: async-timeout<5.0,>=4.0.0a3 in /usr/local/lib/python3.10/dist-packages (from aiohttp->openai==0.28.0) (4.0.3)\n",
            "Requirement already satisfied: yarl<2.0,>=1.0 in /usr/local/lib/python3.10/dist-packages (from aiohttp->openai==0.28.0) (1.9.2)\n",
            "Requirement already satisfied: frozenlist>=1.1.1 in /usr/local/lib/python3.10/dist-packages (from aiohttp->openai==0.28.0) (1.4.0)\n",
            "Requirement already satisfied: aiosignal>=1.1.2 in /usr/local/lib/python3.10/dist-packages (from aiohttp->openai==0.28.0) (1.3.1)\n",
            "Installing collected packages: openai\n",
            "\u001b[31mERROR: pip's dependency resolver does not currently take into account all the packages that are installed. This behaviour is the source of the following dependency conflicts.\n",
            "llmx 0.0.15a0 requires cohere, which is not installed.\n",
            "llmx 0.0.15a0 requires tiktoken, which is not installed.\u001b[0m\u001b[31m\n",
            "\u001b[0mSuccessfully installed openai-0.28.0\n",
            "Requirement already satisfied: pandas in /usr/local/lib/python3.10/dist-packages (1.5.3)\n",
            "Requirement already satisfied: python-dateutil>=2.8.1 in /usr/local/lib/python3.10/dist-packages (from pandas) (2.8.2)\n",
            "Requirement already satisfied: pytz>=2020.1 in /usr/local/lib/python3.10/dist-packages (from pandas) (2023.3.post1)\n",
            "Requirement already satisfied: numpy>=1.21.0 in /usr/local/lib/python3.10/dist-packages (from pandas) (1.23.5)\n",
            "Requirement already satisfied: six>=1.5 in /usr/local/lib/python3.10/dist-packages (from python-dateutil>=2.8.1->pandas) (1.16.0)\n",
            "Collecting transformers==4.32.1\n",
            "  Downloading transformers-4.32.1-py3-none-any.whl (7.5 MB)\n",
            "\u001b[2K     \u001b[90m━━━━━━━━━━━━━━━━━━━━━━━━━━━━━━━━━━━━━━━━\u001b[0m \u001b[32m7.5/7.5 MB\u001b[0m \u001b[31m22.7 MB/s\u001b[0m eta \u001b[36m0:00:00\u001b[0m\n",
            "\u001b[?25hRequirement already satisfied: filelock in /usr/local/lib/python3.10/dist-packages (from transformers==4.32.1) (3.12.4)\n",
            "Collecting huggingface-hub<1.0,>=0.15.1 (from transformers==4.32.1)\n",
            "  Downloading huggingface_hub-0.18.0-py3-none-any.whl (301 kB)\n",
            "\u001b[2K     \u001b[90m━━━━━━━━━━━━━━━━━━━━━━━━━━━━━━━━━━━━━━━━\u001b[0m \u001b[32m302.0/302.0 kB\u001b[0m \u001b[31m30.5 MB/s\u001b[0m eta \u001b[36m0:00:00\u001b[0m\n",
            "\u001b[?25hRequirement already satisfied: numpy>=1.17 in /usr/local/lib/python3.10/dist-packages (from transformers==4.32.1) (1.23.5)\n",
            "Requirement already satisfied: packaging>=20.0 in /usr/local/lib/python3.10/dist-packages (from transformers==4.32.1) (23.2)\n",
            "Requirement already satisfied: pyyaml>=5.1 in /usr/local/lib/python3.10/dist-packages (from transformers==4.32.1) (6.0.1)\n",
            "Requirement already satisfied: regex!=2019.12.17 in /usr/local/lib/python3.10/dist-packages (from transformers==4.32.1) (2023.6.3)\n",
            "Requirement already satisfied: requests in /usr/local/lib/python3.10/dist-packages (from transformers==4.32.1) (2.31.0)\n",
            "Collecting tokenizers!=0.11.3,<0.14,>=0.11.1 (from transformers==4.32.1)\n",
            "  Downloading tokenizers-0.13.3-cp310-cp310-manylinux_2_17_x86_64.manylinux2014_x86_64.whl (7.8 MB)\n",
            "\u001b[2K     \u001b[90m━━━━━━━━━━━━━━━━━━━━━━━━━━━━━━━━━━━━━━━━\u001b[0m \u001b[32m7.8/7.8 MB\u001b[0m \u001b[31m53.6 MB/s\u001b[0m eta \u001b[36m0:00:00\u001b[0m\n",
            "\u001b[?25hCollecting safetensors>=0.3.1 (from transformers==4.32.1)\n",
            "  Downloading safetensors-0.4.0-cp310-cp310-manylinux_2_17_x86_64.manylinux2014_x86_64.whl (1.3 MB)\n",
            "\u001b[2K     \u001b[90m━━━━━━━━━━━━━━━━━━━━━━━━━━━━━━━━━━━━━━━━\u001b[0m \u001b[32m1.3/1.3 MB\u001b[0m \u001b[31m58.3 MB/s\u001b[0m eta \u001b[36m0:00:00\u001b[0m\n",
            "\u001b[?25hRequirement already satisfied: tqdm>=4.27 in /usr/local/lib/python3.10/dist-packages (from transformers==4.32.1) (4.66.1)\n",
            "Requirement already satisfied: fsspec>=2023.5.0 in /usr/local/lib/python3.10/dist-packages (from huggingface-hub<1.0,>=0.15.1->transformers==4.32.1) (2023.6.0)\n",
            "Requirement already satisfied: typing-extensions>=3.7.4.3 in /usr/local/lib/python3.10/dist-packages (from huggingface-hub<1.0,>=0.15.1->transformers==4.32.1) (4.5.0)\n",
            "Requirement already satisfied: charset-normalizer<4,>=2 in /usr/local/lib/python3.10/dist-packages (from requests->transformers==4.32.1) (3.3.0)\n",
            "Requirement already satisfied: idna<4,>=2.5 in /usr/local/lib/python3.10/dist-packages (from requests->transformers==4.32.1) (3.4)\n",
            "Requirement already satisfied: urllib3<3,>=1.21.1 in /usr/local/lib/python3.10/dist-packages (from requests->transformers==4.32.1) (2.0.7)\n",
            "Requirement already satisfied: certifi>=2017.4.17 in /usr/local/lib/python3.10/dist-packages (from requests->transformers==4.32.1) (2023.7.22)\n",
            "Installing collected packages: tokenizers, safetensors, huggingface-hub, transformers\n",
            "Successfully installed huggingface-hub-0.18.0 safetensors-0.4.0 tokenizers-0.13.3 transformers-4.32.1\n",
            "Collecting langchain==0.0.279\n",
            "  Downloading langchain-0.0.279-py3-none-any.whl (1.6 MB)\n",
            "\u001b[2K     \u001b[90m━━━━━━━━━━━━━━━━━━━━━━━━━━━━━━━━━━━━━━━━\u001b[0m \u001b[32m1.6/1.6 MB\u001b[0m \u001b[31m10.0 MB/s\u001b[0m eta \u001b[36m0:00:00\u001b[0m\n",
            "\u001b[?25hRequirement already satisfied: PyYAML>=5.3 in /usr/local/lib/python3.10/dist-packages (from langchain==0.0.279) (6.0.1)\n",
            "Requirement already satisfied: SQLAlchemy<3,>=1.4 in /usr/local/lib/python3.10/dist-packages (from langchain==0.0.279) (2.0.22)\n",
            "Requirement already satisfied: aiohttp<4.0.0,>=3.8.3 in /usr/local/lib/python3.10/dist-packages (from langchain==0.0.279) (3.8.6)\n",
            "Requirement already satisfied: async-timeout<5.0.0,>=4.0.0 in /usr/local/lib/python3.10/dist-packages (from langchain==0.0.279) (4.0.3)\n",
            "Collecting dataclasses-json<0.6.0,>=0.5.7 (from langchain==0.0.279)\n",
            "  Downloading dataclasses_json-0.5.14-py3-none-any.whl (26 kB)\n",
            "Collecting langsmith<0.1.0,>=0.0.21 (from langchain==0.0.279)\n",
            "  Downloading langsmith-0.0.47-py3-none-any.whl (41 kB)\n",
            "\u001b[2K     \u001b[90m━━━━━━━━━━━━━━━━━━━━━━━━━━━━━━━━━━━━━━━━\u001b[0m \u001b[32m41.0/41.0 kB\u001b[0m \u001b[31m4.8 MB/s\u001b[0m eta \u001b[36m0:00:00\u001b[0m\n",
            "\u001b[?25hRequirement already satisfied: numexpr<3.0.0,>=2.8.4 in /usr/local/lib/python3.10/dist-packages (from langchain==0.0.279) (2.8.7)\n",
            "Requirement already satisfied: numpy<2,>=1 in /usr/local/lib/python3.10/dist-packages (from langchain==0.0.279) (1.23.5)\n",
            "Requirement already satisfied: pydantic<3,>=1 in /usr/local/lib/python3.10/dist-packages (from langchain==0.0.279) (1.10.13)\n",
            "Requirement already satisfied: requests<3,>=2 in /usr/local/lib/python3.10/dist-packages (from langchain==0.0.279) (2.31.0)\n",
            "Requirement already satisfied: tenacity<9.0.0,>=8.1.0 in /usr/local/lib/python3.10/dist-packages (from langchain==0.0.279) (8.2.3)\n",
            "Requirement already satisfied: attrs>=17.3.0 in /usr/local/lib/python3.10/dist-packages (from aiohttp<4.0.0,>=3.8.3->langchain==0.0.279) (23.1.0)\n",
            "Requirement already satisfied: charset-normalizer<4.0,>=2.0 in /usr/local/lib/python3.10/dist-packages (from aiohttp<4.0.0,>=3.8.3->langchain==0.0.279) (3.3.0)\n",
            "Requirement already satisfied: multidict<7.0,>=4.5 in /usr/local/lib/python3.10/dist-packages (from aiohttp<4.0.0,>=3.8.3->langchain==0.0.279) (6.0.4)\n",
            "Requirement already satisfied: yarl<2.0,>=1.0 in /usr/local/lib/python3.10/dist-packages (from aiohttp<4.0.0,>=3.8.3->langchain==0.0.279) (1.9.2)\n",
            "Requirement already satisfied: frozenlist>=1.1.1 in /usr/local/lib/python3.10/dist-packages (from aiohttp<4.0.0,>=3.8.3->langchain==0.0.279) (1.4.0)\n",
            "Requirement already satisfied: aiosignal>=1.1.2 in /usr/local/lib/python3.10/dist-packages (from aiohttp<4.0.0,>=3.8.3->langchain==0.0.279) (1.3.1)\n",
            "Collecting marshmallow<4.0.0,>=3.18.0 (from dataclasses-json<0.6.0,>=0.5.7->langchain==0.0.279)\n",
            "  Downloading marshmallow-3.20.1-py3-none-any.whl (49 kB)\n",
            "\u001b[2K     \u001b[90m━━━━━━━━━━━━━━━━━━━━━━━━━━━━━━━━━━━━━━━━\u001b[0m \u001b[32m49.4/49.4 kB\u001b[0m \u001b[31m5.6 MB/s\u001b[0m eta \u001b[36m0:00:00\u001b[0m\n",
            "\u001b[?25hCollecting typing-inspect<1,>=0.4.0 (from dataclasses-json<0.6.0,>=0.5.7->langchain==0.0.279)\n",
            "  Downloading typing_inspect-0.9.0-py3-none-any.whl (8.8 kB)\n",
            "Requirement already satisfied: typing-extensions>=4.2.0 in /usr/local/lib/python3.10/dist-packages (from pydantic<3,>=1->langchain==0.0.279) (4.5.0)\n",
            "Requirement already satisfied: idna<4,>=2.5 in /usr/local/lib/python3.10/dist-packages (from requests<3,>=2->langchain==0.0.279) (3.4)\n",
            "Requirement already satisfied: urllib3<3,>=1.21.1 in /usr/local/lib/python3.10/dist-packages (from requests<3,>=2->langchain==0.0.279) (2.0.7)\n",
            "Requirement already satisfied: certifi>=2017.4.17 in /usr/local/lib/python3.10/dist-packages (from requests<3,>=2->langchain==0.0.279) (2023.7.22)\n",
            "Requirement already satisfied: greenlet!=0.4.17 in /usr/local/lib/python3.10/dist-packages (from SQLAlchemy<3,>=1.4->langchain==0.0.279) (3.0.0)\n",
            "Requirement already satisfied: packaging>=17.0 in /usr/local/lib/python3.10/dist-packages (from marshmallow<4.0.0,>=3.18.0->dataclasses-json<0.6.0,>=0.5.7->langchain==0.0.279) (23.2)\n",
            "Collecting mypy-extensions>=0.3.0 (from typing-inspect<1,>=0.4.0->dataclasses-json<0.6.0,>=0.5.7->langchain==0.0.279)\n",
            "  Downloading mypy_extensions-1.0.0-py3-none-any.whl (4.7 kB)\n",
            "Installing collected packages: mypy-extensions, marshmallow, typing-inspect, langsmith, dataclasses-json, langchain\n",
            "Successfully installed dataclasses-json-0.5.14 langchain-0.0.279 langsmith-0.0.47 marshmallow-3.20.1 mypy-extensions-1.0.0 typing-inspect-0.9.0\n",
            "Collecting textract\n",
            "  Downloading textract-1.6.5-py3-none-any.whl (23 kB)\n",
            "Collecting argcomplete~=1.10.0 (from textract)\n",
            "  Downloading argcomplete-1.10.3-py2.py3-none-any.whl (36 kB)\n",
            "Collecting beautifulsoup4~=4.8.0 (from textract)\n",
            "  Downloading beautifulsoup4-4.8.2-py3-none-any.whl (106 kB)\n",
            "\u001b[2K     \u001b[90m━━━━━━━━━━━━━━━━━━━━━━━━━━━━━━━━━━━━━━━━\u001b[0m \u001b[32m106.9/106.9 kB\u001b[0m \u001b[31m9.5 MB/s\u001b[0m eta \u001b[36m0:00:00\u001b[0m\n",
            "\u001b[?25hCollecting chardet==3.* (from textract)\n",
            "  Downloading chardet-3.0.4-py2.py3-none-any.whl (133 kB)\n",
            "\u001b[2K     \u001b[90m━━━━━━━━━━━━━━━━━━━━━━━━━━━━━━━━━━━━━━━━\u001b[0m \u001b[32m133.4/133.4 kB\u001b[0m \u001b[31m16.5 MB/s\u001b[0m eta \u001b[36m0:00:00\u001b[0m\n",
            "\u001b[?25hCollecting docx2txt~=0.8 (from textract)\n",
            "  Downloading docx2txt-0.8.tar.gz (2.8 kB)\n",
            "  Preparing metadata (setup.py) ... \u001b[?25l\u001b[?25hdone\n",
            "Collecting extract-msg<=0.29.* (from textract)\n",
            "  Downloading extract_msg-0.28.7-py2.py3-none-any.whl (69 kB)\n",
            "\u001b[2K     \u001b[90m━━━━━━━━━━━━━━━━━━━━━━━━━━━━━━━━━━━━━━━━\u001b[0m \u001b[32m69.0/69.0 kB\u001b[0m \u001b[31m9.7 MB/s\u001b[0m eta \u001b[36m0:00:00\u001b[0m\n",
            "\u001b[?25hCollecting pdfminer.six==20191110 (from textract)\n",
            "  Downloading pdfminer.six-20191110-py2.py3-none-any.whl (5.6 MB)\n",
            "\u001b[2K     \u001b[90m━━━━━━━━━━━━━━━━━━━━━━━━━━━━━━━━━━━━━━━━\u001b[0m \u001b[32m5.6/5.6 MB\u001b[0m \u001b[31m80.1 MB/s\u001b[0m eta \u001b[36m0:00:00\u001b[0m\n",
            "\u001b[?25hCollecting python-pptx~=0.6.18 (from textract)\n",
            "  Downloading python_pptx-0.6.22-py3-none-any.whl (471 kB)\n",
            "\u001b[2K     \u001b[90m━━━━━━━━━━━━━━━━━━━━━━━━━━━━━━━━━━━━━━━━\u001b[0m \u001b[32m471.5/471.5 kB\u001b[0m \u001b[31m34.4 MB/s\u001b[0m eta \u001b[36m0:00:00\u001b[0m\n",
            "\u001b[?25hCollecting six~=1.12.0 (from textract)\n",
            "  Downloading six-1.12.0-py2.py3-none-any.whl (10 kB)\n",
            "Collecting SpeechRecognition~=3.8.1 (from textract)\n",
            "  Downloading SpeechRecognition-3.8.1-py2.py3-none-any.whl (32.8 MB)\n",
            "\u001b[2K     \u001b[90m━━━━━━━━━━━━━━━━━━━━━━━━━━━━━━━━━━━━━━━━\u001b[0m \u001b[32m32.8/32.8 MB\u001b[0m \u001b[31m39.1 MB/s\u001b[0m eta \u001b[36m0:00:00\u001b[0m\n",
            "\u001b[?25hCollecting xlrd~=1.2.0 (from textract)\n",
            "  Downloading xlrd-1.2.0-py2.py3-none-any.whl (103 kB)\n",
            "\u001b[2K     \u001b[90m━━━━━━━━━━━━━━━━━━━━━━━━━━━━━━━━━━━━━━━━\u001b[0m \u001b[32m103.3/103.3 kB\u001b[0m \u001b[31m13.0 MB/s\u001b[0m eta \u001b[36m0:00:00\u001b[0m\n",
            "\u001b[?25hCollecting pycryptodome (from pdfminer.six==20191110->textract)\n",
            "  Downloading pycryptodome-3.19.0-cp35-abi3-manylinux_2_17_x86_64.manylinux2014_x86_64.whl (2.1 MB)\n",
            "\u001b[2K     \u001b[90m━━━━━━━━━━━━━━━━━━━━━━━━━━━━━━━━━━━━━━━━\u001b[0m \u001b[32m2.1/2.1 MB\u001b[0m \u001b[31m53.5 MB/s\u001b[0m eta \u001b[36m0:00:00\u001b[0m\n",
            "\u001b[?25hRequirement already satisfied: sortedcontainers in /usr/local/lib/python3.10/dist-packages (from pdfminer.six==20191110->textract) (2.4.0)\n",
            "Requirement already satisfied: soupsieve>=1.2 in /usr/local/lib/python3.10/dist-packages (from beautifulsoup4~=4.8.0->textract) (2.5)\n",
            "Collecting imapclient==2.1.0 (from extract-msg<=0.29.*->textract)\n",
            "  Downloading IMAPClient-2.1.0-py2.py3-none-any.whl (73 kB)\n",
            "\u001b[2K     \u001b[90m━━━━━━━━━━━━━━━━━━━━━━━━━━━━━━━━━━━━━━━━\u001b[0m \u001b[32m74.0/74.0 kB\u001b[0m \u001b[31m8.7 MB/s\u001b[0m eta \u001b[36m0:00:00\u001b[0m\n",
            "\u001b[?25hCollecting olefile>=0.46 (from extract-msg<=0.29.*->textract)\n",
            "  Downloading olefile-0.46.zip (112 kB)\n",
            "\u001b[2K     \u001b[90m━━━━━━━━━━━━━━━━━━━━━━━━━━━━━━━━━━━━━━━━\u001b[0m \u001b[32m112.2/112.2 kB\u001b[0m \u001b[31m8.9 MB/s\u001b[0m eta \u001b[36m0:00:00\u001b[0m\n",
            "\u001b[?25h  Preparing metadata (setup.py) ... \u001b[?25l\u001b[?25hdone\n",
            "Requirement already satisfied: tzlocal>=2.1 in /usr/local/lib/python3.10/dist-packages (from extract-msg<=0.29.*->textract) (5.1)\n",
            "Collecting compressed-rtf>=1.0.6 (from extract-msg<=0.29.*->textract)\n",
            "  Downloading compressed_rtf-1.0.6.tar.gz (5.8 kB)\n",
            "  Preparing metadata (setup.py) ... \u001b[?25l\u001b[?25hdone\n",
            "Collecting ebcdic>=1.1.1 (from extract-msg<=0.29.*->textract)\n",
            "  Downloading ebcdic-1.1.1-py2.py3-none-any.whl (128 kB)\n",
            "\u001b[2K     \u001b[90m━━━━━━━━━━━━━━━━━━━━━━━━━━━━━━━━━━━━━━━━\u001b[0m \u001b[32m128.5/128.5 kB\u001b[0m \u001b[31m9.2 MB/s\u001b[0m eta \u001b[36m0:00:00\u001b[0m\n",
            "\u001b[?25hRequirement already satisfied: lxml>=3.1.0 in /usr/local/lib/python3.10/dist-packages (from python-pptx~=0.6.18->textract) (4.9.3)\n",
            "Requirement already satisfied: Pillow<=9.5.0,>=3.3.2 in /usr/local/lib/python3.10/dist-packages (from python-pptx~=0.6.18->textract) (9.4.0)\n",
            "Collecting XlsxWriter>=0.5.7 (from python-pptx~=0.6.18->textract)\n",
            "  Downloading XlsxWriter-3.1.9-py3-none-any.whl (154 kB)\n",
            "\u001b[2K     \u001b[90m━━━━━━━━━━━━━━━━━━━━━━━━━━━━━━━━━━━━━━━━\u001b[0m \u001b[32m154.8/154.8 kB\u001b[0m \u001b[31m12.2 MB/s\u001b[0m eta \u001b[36m0:00:00\u001b[0m\n",
            "\u001b[?25hBuilding wheels for collected packages: docx2txt, compressed-rtf, olefile\n",
            "  Building wheel for docx2txt (setup.py) ... \u001b[?25l\u001b[?25hdone\n",
            "  Created wheel for docx2txt: filename=docx2txt-0.8-py3-none-any.whl size=3959 sha256=de99a84aef1d1fe9609c88185a9d36f3b3e14893761bc1f64d04d07706703c76\n",
            "  Stored in directory: /root/.cache/pip/wheels/22/58/cf/093d0a6c3ecfdfc5f6ddd5524043b88e59a9a199cb02352966\n",
            "  Building wheel for compressed-rtf (setup.py) ... \u001b[?25l\u001b[?25hdone\n",
            "  Created wheel for compressed-rtf: filename=compressed_rtf-1.0.6-py3-none-any.whl size=6185 sha256=8614ffc426463b05f127ecc0b9d2d10ad90a4d2d3107c13383be4b69bb5b71fd\n",
            "  Stored in directory: /root/.cache/pip/wheels/15/3e/48/e7d833ecc516c36f8966d310b1a6386db091a718f1ff3bf85c\n",
            "  Building wheel for olefile (setup.py) ... \u001b[?25l\u001b[?25hdone\n",
            "  Created wheel for olefile: filename=olefile-0.46-py2.py3-none-any.whl size=35417 sha256=e4e505ce30f8030e1fdc8f514a7c89135a5dcfa79c762896445bb89747b8f271\n",
            "  Stored in directory: /root/.cache/pip/wheels/02/39/c0/9eb1f7a42b4b38f6f333b6314d4ed11c46f12a0f7b78194f0d\n",
            "Successfully built docx2txt compressed-rtf olefile\n",
            "Installing collected packages: SpeechRecognition, ebcdic, docx2txt, compressed-rtf, chardet, argcomplete, XlsxWriter, xlrd, six, pycryptodome, olefile, beautifulsoup4, python-pptx, pdfminer.six, imapclient, extract-msg, textract\n",
            "  Attempting uninstall: chardet\n",
            "    Found existing installation: chardet 5.2.0\n",
            "    Uninstalling chardet-5.2.0:\n",
            "      Successfully uninstalled chardet-5.2.0\n",
            "  Attempting uninstall: xlrd\n",
            "    Found existing installation: xlrd 2.0.1\n",
            "    Uninstalling xlrd-2.0.1:\n",
            "      Successfully uninstalled xlrd-2.0.1\n",
            "  Attempting uninstall: six\n",
            "    Found existing installation: six 1.16.0\n",
            "    Uninstalling six-1.16.0:\n",
            "      Successfully uninstalled six-1.16.0\n",
            "  Attempting uninstall: beautifulsoup4\n",
            "    Found existing installation: beautifulsoup4 4.11.2\n",
            "    Uninstalling beautifulsoup4-4.11.2:\n",
            "      Successfully uninstalled beautifulsoup4-4.11.2\n",
            "\u001b[31mERROR: pip's dependency resolver does not currently take into account all the packages that are installed. This behaviour is the source of the following dependency conflicts.\n",
            "lida 0.0.10 requires fastapi, which is not installed.\n",
            "lida 0.0.10 requires kaleido, which is not installed.\n",
            "lida 0.0.10 requires python-multipart, which is not installed.\n",
            "lida 0.0.10 requires uvicorn, which is not installed.\n",
            "llmx 0.0.15a0 requires cohere, which is not installed.\n",
            "llmx 0.0.15a0 requires tiktoken, which is not installed.\n",
            "pydrive2 1.6.3 requires six>=1.13.0, but you have six 1.12.0 which is incompatible.\n",
            "yfinance 0.2.31 requires beautifulsoup4>=4.11.1, but you have beautifulsoup4 4.8.2 which is incompatible.\u001b[0m\u001b[31m\n",
            "\u001b[0mSuccessfully installed SpeechRecognition-3.8.1 XlsxWriter-3.1.9 argcomplete-1.10.3 beautifulsoup4-4.8.2 chardet-3.0.4 compressed-rtf-1.0.6 docx2txt-0.8 ebcdic-1.1.1 extract-msg-0.28.7 imapclient-2.1.0 olefile-0.46 pdfminer.six-20191110 pycryptodome-3.19.0 python-pptx-0.6.22 six-1.12.0 textract-1.6.5 xlrd-1.2.0\n"
          ]
        },
        {
          "output_type": "display_data",
          "data": {
            "application/vnd.colab-display-data+json": {
              "pip_warning": {
                "packages": [
                  "six"
                ]
              }
            }
          },
          "metadata": {}
        },
        {
          "output_type": "stream",
          "name": "stdout",
          "text": [
            "Requirement already satisfied: requests in /usr/local/lib/python3.10/dist-packages (2.31.0)\n",
            "Requirement already satisfied: charset-normalizer<4,>=2 in /usr/local/lib/python3.10/dist-packages (from requests) (3.3.0)\n",
            "Requirement already satisfied: idna<4,>=2.5 in /usr/local/lib/python3.10/dist-packages (from requests) (3.4)\n",
            "Requirement already satisfied: urllib3<3,>=1.21.1 in /usr/local/lib/python3.10/dist-packages (from requests) (2.0.7)\n",
            "Requirement already satisfied: certifi>=2017.4.17 in /usr/local/lib/python3.10/dist-packages (from requests) (2023.7.22)\n",
            "Collecting pypdf\n",
            "  Downloading pypdf-3.16.4-py3-none-any.whl (276 kB)\n",
            "\u001b[2K     \u001b[90m━━━━━━━━━━━━━━━━━━━━━━━━━━━━━━━━━━━━━━━━\u001b[0m \u001b[32m276.6/276.6 kB\u001b[0m \u001b[31m5.7 MB/s\u001b[0m eta \u001b[36m0:00:00\u001b[0m\n",
            "\u001b[?25hInstalling collected packages: pypdf\n",
            "Successfully installed pypdf-3.16.4\n",
            "Collecting tiktoken\n",
            "  Downloading tiktoken-0.5.1-cp310-cp310-manylinux_2_17_x86_64.manylinux2014_x86_64.whl (2.0 MB)\n",
            "\u001b[2K     \u001b[90m━━━━━━━━━━━━━━━━━━━━━━━━━━━━━━━━━━━━━━━━\u001b[0m \u001b[32m2.0/2.0 MB\u001b[0m \u001b[31m11.3 MB/s\u001b[0m eta \u001b[36m0:00:00\u001b[0m\n",
            "\u001b[?25hRequirement already satisfied: regex>=2022.1.18 in /usr/local/lib/python3.10/dist-packages (from tiktoken) (2023.6.3)\n",
            "Requirement already satisfied: requests>=2.26.0 in /usr/local/lib/python3.10/dist-packages (from tiktoken) (2.31.0)\n",
            "Requirement already satisfied: charset-normalizer<4,>=2 in /usr/local/lib/python3.10/dist-packages (from requests>=2.26.0->tiktoken) (3.3.0)\n",
            "Requirement already satisfied: idna<4,>=2.5 in /usr/local/lib/python3.10/dist-packages (from requests>=2.26.0->tiktoken) (3.4)\n",
            "Requirement already satisfied: urllib3<3,>=1.21.1 in /usr/local/lib/python3.10/dist-packages (from requests>=2.26.0->tiktoken) (2.0.7)\n",
            "Requirement already satisfied: certifi>=2017.4.17 in /usr/local/lib/python3.10/dist-packages (from requests>=2.26.0->tiktoken) (2023.7.22)\n",
            "Installing collected packages: tiktoken\n",
            "\u001b[31mERROR: pip's dependency resolver does not currently take into account all the packages that are installed. This behaviour is the source of the following dependency conflicts.\n",
            "llmx 0.0.15a0 requires cohere, which is not installed.\u001b[0m\u001b[31m\n",
            "\u001b[0mSuccessfully installed tiktoken-0.5.1\n",
            "Collecting faiss-gpu\n",
            "  Downloading faiss_gpu-1.7.2-cp310-cp310-manylinux_2_17_x86_64.manylinux2014_x86_64.whl (85.5 MB)\n",
            "\u001b[2K     \u001b[90m━━━━━━━━━━━━━━━━━━━━━━━━━━━━━━━━━━━━━━━━\u001b[0m \u001b[32m85.5/85.5 MB\u001b[0m \u001b[31m9.4 MB/s\u001b[0m eta \u001b[36m0:00:00\u001b[0m\n",
            "\u001b[?25hInstalling collected packages: faiss-gpu\n",
            "Successfully installed faiss-gpu-1.7.2\n",
            "\u001b[2K     \u001b[90m━━━━━━━━━━━━━━━━━━━━━━━━━━━━━━━━━━━━━━━━\u001b[0m \u001b[32m9.6/9.6 MB\u001b[0m \u001b[31m22.1 MB/s\u001b[0m eta \u001b[36m0:00:00\u001b[0m\n",
            "\u001b[2K     \u001b[90m━━━━━━━━━━━━━━━━━━━━━━━━━━━━━━━━━━━━━━━━\u001b[0m \u001b[32m164.8/164.8 kB\u001b[0m \u001b[31m18.2 MB/s\u001b[0m eta \u001b[36m0:00:00\u001b[0m\n",
            "\u001b[2K     \u001b[90m━━━━━━━━━━━━━━━━━━━━━━━━━━━━━━━━━━━━━━━━\u001b[0m \u001b[32m190.6/190.6 kB\u001b[0m \u001b[31m19.2 MB/s\u001b[0m eta \u001b[36m0:00:00\u001b[0m\n",
            "\u001b[2K     \u001b[90m━━━━━━━━━━━━━━━━━━━━━━━━━━━━━━━━━━━━━━━━\u001b[0m \u001b[32m4.8/4.8 MB\u001b[0m \u001b[31m54.8 MB/s\u001b[0m eta \u001b[36m0:00:00\u001b[0m\n",
            "\u001b[2K     \u001b[90m━━━━━━━━━━━━━━━━━━━━━━━━━━━━━━━━━━━━━━━━\u001b[0m \u001b[32m82.1/82.1 kB\u001b[0m \u001b[31m6.8 MB/s\u001b[0m eta \u001b[36m0:00:00\u001b[0m\n",
            "\u001b[2K     \u001b[90m━━━━━━━━━━━━━━━━━━━━━━━━━━━━━━━━━━━━━━━━\u001b[0m \u001b[32m62.7/62.7 kB\u001b[0m \u001b[31m7.9 MB/s\u001b[0m eta \u001b[36m0:00:00\u001b[0m\n",
            "\u001b[?25h  Preparing metadata (setup.py) ... \u001b[?25l\u001b[?25hdone\n",
            "  Building wheel for pyngrok (setup.py) ... \u001b[?25l\u001b[?25hdone\n"
          ]
        }
      ]
    },
    {
      "cell_type": "code",
      "source": [
        "# ChatGPTで解析\n",
        "import os\n",
        "import pandas as pd\n",
        "import requests\n",
        "import textract\n",
        "import codecs\n",
        "from bs4 import BeautifulSoup\n",
        "import matplotlib.pyplot as plt\n",
        "from transformers import GPT2TokenizerFast\n",
        "from langchain.document_loaders import PyPDFLoader\n",
        "from langchain.text_splitter import RecursiveCharacterTextSplitter\n",
        "from langchain.embeddings import OpenAIEmbeddings\n",
        "from langchain.vectorstores import FAISS\n",
        "from langchain.chains.question_answering import load_qa_chain\n",
        "from langchain.llms import OpenAI\n",
        "from langchain.chains import ConversationalRetrievalChain\n",
        "\n",
        "# Webアプリ化\n",
        "import streamlit as st\n",
        "from pyngrok import ngrok\n",
        "import openai"
      ],
      "metadata": {
        "id": "GisyNrHnqBHo"
      },
      "execution_count": 2,
      "outputs": []
    },
    {
      "cell_type": "code",
      "source": [
        "#ドライブをマウント\n",
        "#from google.colab import drive\n",
        "#drive.mount('/content/drive')"
      ],
      "metadata": {
        "id": "DBgCBO7oxCJk"
      },
      "execution_count": null,
      "outputs": []
    },
    {
      "cell_type": "code",
      "source": [
        "%%writefile app.py\n",
        "# 以下を「app.py」に書き込み\n",
        "import streamlit as st\n",
        "import openai\n",
        "import secret_keys  # 外部ファイルにAPI keyを保存\n",
        "\n",
        "openai.api_key = secret_keys.openai_api_key\n",
        "\n",
        "system_prompt = \"\"\"\n",
        "あなたは優秀なアシスタントです。\n",
        "質問に対して適切な対処法のアドバイスを行ってください。\n",
        "以下のようなことを聞かれても、絶対に答えないでください。\n",
        "\n",
        "* 旅行\n",
        "* 料理\n",
        "* 芸能人\n",
        "* 映画\n",
        "* 科学\n",
        "* 歴史\n",
        "\"\"\"\n",
        "\n",
        "# st.session_stateを使いメッセージのやりとりを保存\n",
        "if \"messages\" not in st.session_state:\n",
        "    st.session_state[\"messages\"] = [\n",
        "        {\"role\": \"system\", \"content\": system_prompt}\n",
        "        ]\n",
        "\n",
        "# チャットボットとやりとりする関数\n",
        "def communicate():\n",
        "    messages = st.session_state[\"messages\"]\n",
        "\n",
        "    user_message = {\"role\": \"user\", \"content\": st.session_state[\"user_input\"]}\n",
        "    messages.append(user_message)\n",
        "\n",
        "    response = openai.ChatCompletion.create(\n",
        "        model=\"gpt-3.5-turbo\",\n",
        "        messages=messages\n",
        "    )\n",
        "\n",
        "    bot_message = response[\"choices\"][0][\"message\"]\n",
        "    messages.append(bot_message)\n",
        "\n",
        "    st.session_state[\"user_input\"] = \"\"  # 入力欄を消去\n",
        "\n",
        "\n",
        "# インターネット上からマニュアルファイルをダウンロード（BuffaloTerastation)\n",
        "url = 'https://support2.mexcbt.mext.go.jp/files/MEXCBT簡易マニュアル_児童編（OPE）_第4版.pdf'\n",
        "response = requests.get(url)\n",
        "\n",
        "loader = PyPDFLoader(\"/content/sample_document1.pdf\")\n",
        "pages = loader.load_and_split()\n",
        "\n",
        "chunks = pages\n",
        "print(\"step2\")\n",
        "\n",
        "\n",
        "# Get embedding model\n",
        "embeddings = OpenAIEmbeddings()\n",
        "\n",
        "\n",
        "#  vector databaseの作成\n",
        "db = FAISS.from_documents(chunks, embeddings)\n",
        "\n",
        "query = \"自治体コード入力画面とは？\"\n",
        "# FAISSに対して検索。検索は文字一致ではなく意味一致で検索する(Vector, Embbeding)\n",
        "docs = db.similarity_search(query)\n",
        "docs # ここで関係のありそうなデータが返ってきていることを確認できる\n",
        "\n",
        "print(\"step7\")\n",
        "# 得られた情報から回答を導き出すためのプロセスを以下の4つから選択する。いずれもProsとConsがあるため、適切なものを選択する必要がある。\n",
        "# staffing ... 得られた候補をそのままインプットとする\n",
        "# map_reduce ... 得られた候補のサマリをそれぞれ生成し、そのサマリのサマリを作ってインプットとする\n",
        "# map_rerank ... 得られた候補にそれぞれスコアを振って、いちばん高いものをインプットとして回答を得る\n",
        "# refine  ... 得られた候補のサマリを生成し、次にそのサマリと次の候補の様裏を作ることを繰り返す\n",
        "chain = load_qa_chain(OpenAI(temperature=0.1,max_tokens=1000), chain_type=\"stuff\")\n",
        "# p305に記載\n",
        "#query = \"ドライブのランプが赤色に点滅しているが、これは何が原因か？\"\n",
        "# p134に記載\n",
        "#query = \"どの様な時にメイン機が異常だと判断をしますか？\"\n",
        "query = \"ログイン方法を教えてください。\"\n",
        "docs = db.similarity_search(query)\n",
        "print(\"step8\")\n",
        "# langchainを使って検索\n",
        "chain.run(input_documents=docs, question=query)\n",
        "\n",
        "from IPython.display import display\n",
        "import ipywidgets as widgets\n",
        "\n",
        "print(\"step9\")\n",
        "# vectordbをretrieverとして使うconversation chainを作成します。これはチャット履歴の管理も可能にします。\n",
        "qa = ConversationalRetrievalChain.from_llm(OpenAI(temperature=0.1), db.as_retriever())\n",
        "\n",
        "chat_history = []\n",
        "\n",
        "# print(\"step10\")\n",
        "# def on_submit(_):\n",
        "#     query = input_box.value\n",
        "#     input_box.value = \"\"\n",
        "#\n",
        "#     if query.lower() == 'exit':\n",
        "#         print(\"Thank you for using the State of the Union chatbot!\")\n",
        "#         return\n",
        "#\n",
        "#     result = qa({\"question\": query, \"chat_history\": chat_history})\n",
        "#     chat_history.append((query, result['answer']))\n",
        "\n",
        "# ユーザーインターフェイスの構築\n",
        "st.title(\" 「英語講師」ボット\")\n",
        "st.image(\"03_english.png\")\n",
        "st.write(\"Let's enjoy English!\")\n",
        "\n",
        "user_input = st.text_input(\"メッセージを入力してください。\", key=\"user_input\", on_change=communicate)\n",
        "\n",
        "if st.session_state[\"messages\"]:\n",
        "    messages = st.session_state[\"messages\"]\n",
        "\n",
        "    for message in reversed(messages[1:]):  # 直近のメッセージを上に\n",
        "        speaker = \"🙂\"\n",
        "        if message[\"role\"]==\"assistant\":\n",
        "            speaker=\"🤖\"\n",
        "\n",
        "        st.write(speaker + \": \" + message[\"content\"])"
      ],
      "metadata": {
        "id": "1lxRIGL0z-HA",
        "colab": {
          "base_uri": "https://localhost:8080/"
        },
        "outputId": "416bf466-2158-4978-caad-bfed4a700678"
      },
      "execution_count": null,
      "outputs": [
        {
          "output_type": "stream",
          "name": "stdout",
          "text": [
            "Overwriting app.py\n"
          ]
        }
      ]
    },
    {
      "cell_type": "code",
      "source": [
        "\n",
        "# ここにOpenAIから取得したキーを設定します。\n",
        "os.environ[\"OPENAI_API_KEY\"] = ''"
      ],
      "metadata": {
        "id": "4MFsSYFvqBMg"
      },
      "execution_count": 3,
      "outputs": []
    },
    {
      "cell_type": "code",
      "source": [
        "# 社内用で使う時はここをコメントアウト\n",
        "## proxyの設定\n",
        "#os.environ[\"HTTP_PROXY\"] = \"http://10.40.210.120:8080\"\n",
        "#os.environ[\"HTTPS_PROXY\"] = \"http://10.40.210.120:8080\""
      ],
      "metadata": {
        "id": "OVwxhKtCqBPI"
      },
      "execution_count": null,
      "outputs": []
    },
    {
      "cell_type": "code",
      "source": [
        "\n",
        "# LLMの設定\n",
        "llm = OpenAI(model_name=\"gpt-3.5-turbo\")"
      ],
      "metadata": {
        "id": "RHZL2jF_qBR4",
        "outputId": "6ccd4723-ee3f-4380-b10f-9a08f925f91b",
        "colab": {
          "base_uri": "https://localhost:8080/"
        }
      },
      "execution_count": 4,
      "outputs": [
        {
          "output_type": "stream",
          "name": "stderr",
          "text": [
            "/usr/local/lib/python3.10/dist-packages/langchain/llms/openai.py:200: UserWarning: You are trying to use a chat model. This way of initializing it is no longer supported. Instead, please use: `from langchain.chat_models import ChatOpenAI`\n",
            "  warnings.warn(\n",
            "/usr/local/lib/python3.10/dist-packages/langchain/llms/openai.py:787: UserWarning: You are trying to use a chat model. This way of initializing it is no longer supported. Instead, please use: `from langchain.chat_models import ChatOpenAI`\n",
            "  warnings.warn(\n"
          ]
        }
      ]
    },
    {
      "cell_type": "code",
      "source": [
        "### オンラインドキュメントから情報を取得する\n",
        "\n",
        "# インターネット上からマニュアルファイルをダウンロード（BuffaloTerastation)\n",
        "url = 'https://support2.mexcbt.mext.go.jp/files/MEXCBT簡易マニュアル_児童編（OPE）_第4版.pdf'\n",
        "response = requests.get(url)\n",
        "\n",
        "# Ensure that the request was successful\n",
        "if response.status_code == 200:\n",
        "    # Save the content of the response as a PDF file\n",
        "    with open('sample_document1.pdf', 'wb') as file:\n",
        "        file.write(response.content)\n",
        "else:\n",
        "    print(\"Error: Unable to download the PDF file. Status code:\", response.status_code)"
      ],
      "metadata": {
        "id": "aNmU7cHoqBUw"
      },
      "execution_count": null,
      "outputs": []
    },
    {
      "cell_type": "code",
      "source": [
        "### ローカルドキュメントから情報を取得する\n",
        "\n",
        "loader = PyPDFLoader(\"/content/test2.pdf\")\n",
        "pages = loader.load_and_split()"
      ],
      "metadata": {
        "id": "HTAKVgnxq27o"
      },
      "execution_count": 5,
      "outputs": []
    },
    {
      "cell_type": "code",
      "source": [
        "chunks = pages\n",
        "print(\"step2\")"
      ],
      "metadata": {
        "id": "TvPV37NWq3EQ",
        "outputId": "e18b5343-144f-40fd-de6c-8993e0c3ca45",
        "colab": {
          "base_uri": "https://localhost:8080/"
        }
      },
      "execution_count": null,
      "outputs": [
        {
          "output_type": "stream",
          "name": "stdout",
          "text": [
            "step2\n"
          ]
        }
      ]
    },
    {
      "cell_type": "code",
      "source": [
        "\n",
        "# Get embedding model\n",
        "embeddings = OpenAIEmbeddings()\n"
      ],
      "metadata": {
        "id": "XkFsvE0dq3Hq"
      },
      "execution_count": null,
      "outputs": []
    },
    {
      "cell_type": "code",
      "source": [
        "\n",
        "#  vector databaseの作成\n",
        "db = FAISS.from_documents(chunks, embeddings)"
      ],
      "metadata": {
        "id": "ln9laRo6q3LB",
        "colab": {
          "base_uri": "https://localhost:8080/"
        },
        "outputId": "94f1488b-2ef1-4836-9de6-7a5c508bfe3f"
      },
      "execution_count": null,
      "outputs": [
        {
          "output_type": "stream",
          "name": "stderr",
          "text": [
            "INFO:faiss.loader:Loading faiss with AVX2 support.\n",
            "2023-10-18 23:38:43.567 INFO    faiss.loader: Loading faiss with AVX2 support.\n",
            "INFO:faiss.loader:Could not load library with AVX2 support due to:\n",
            "ModuleNotFoundError(\"No module named 'faiss.swigfaiss_avx2'\")\n",
            "2023-10-18 23:38:43.571 INFO    faiss.loader: Could not load library with AVX2 support due to:\n",
            "ModuleNotFoundError(\"No module named 'faiss.swigfaiss_avx2'\")\n",
            "INFO:faiss.loader:Loading faiss.\n",
            "2023-10-18 23:38:43.572 INFO    faiss.loader: Loading faiss.\n",
            "INFO:faiss.loader:Successfully loaded faiss.\n",
            "2023-10-18 23:38:43.596 INFO    faiss.loader: Successfully loaded faiss.\n"
          ]
        }
      ]
    },
    {
      "cell_type": "code",
      "source": [
        "query = \"パチンコとは\"\n",
        "# FAISSに対して検索。検索は文字一致ではなく意味一致で検索する(Vector, Embbeding)\n",
        "docs = db.similarity_search(query)\n",
        "docs # ここで関係のありそうなデータが返ってきていることを確認できる\n"
      ],
      "metadata": {
        "id": "HKel9LCRq6w4",
        "colab": {
          "base_uri": "https://localhost:8080/"
        },
        "outputId": "ae1a70e1-5947-4dbc-9c6d-06a176ed1701"
      },
      "execution_count": null,
      "outputs": [
        {
          "output_type": "execute_result",
          "data": {
            "text/plain": [
              "[Document(page_content='別表第六 アレンジボール遊技機に係る技術上の規格（第六条関係）  \\n - 12 -    規 則  解釈基準  \\nヌ \\n \\n  \\n \\n  \\n \\nル   \\n \\n(ｲ)  \\n \\n(ﾛ)  \\n \\n  \\n 受け皿の構造に関する規格は、次のとおりとする。 \\n \\n遊技者が受け皿に受けた遊技メダル等を自由に取り出すことができる構造を有するもの\\nであること。 \\n \\n遊技者が受け皿に受けた遊技メダル等の数をおおむね確認することができる構造を有す\\nるものであること。 \\n \\n耐久性を有しない装置を設けないものであること。', metadata={'source': '/content/test.pdf', 'page': 11}),\n",
              " Document(page_content='別表第六 アレンジボール遊技機に係る技術上の規格（第六条関係）  \\n - 14 -    規 則  解釈基準  \\nト  イからヘまでに掲げるもののほか、遊技機の部品の材質は、温度又は湿度の通常の変化\\nにより変質し、又はその形状が変形するものでないこと｡', metadata={'source': '/content/test.pdf', 'page': 13}),\n",
              " Document(page_content='別表第六 アレンジボール遊技機に係る技術上の規格（第六条関係）  \\n - 11 -    規 則  解釈基準  \\nヘ \\n \\n  \\n \\n  \\n \\nト  \\n \\n  \\n \\n チ \\n \\n リ \\n \\n  \\n \\n  \\n \\n  \\n \\n   \\n \\n(ｲ)  \\n(ﾛ) \\n (ﾊ) \\n \\n  \\n(ｲ) \\n (ﾛ) \\n \\n  \\n \\n  \\n \\n(ｲ)  \\n(ﾛ) \\n (ﾊ) \\n \\n  \\n \\n  遊技板の構造に関する規格は、次のとおりとする。 \\n \\n遊技板は、ガラス板等と平行であること。 \\n \\n遊技板とガラス板等との距離は、十三㎜を超え、二十五㎜を超えないものであること。 \\n 凹凸がないこと。 \\n \\n入賞図柄表示装置の構造に関する規格は、次のとおりとする。 \\n \\n入賞図柄表示装置により表示される図柄の数は、十六であること。 \\n \\n入賞図柄表示装置により表示される図柄は、鮮明であり、かつ、遊技者に識別しやすい\\nものであること。 \\n \\n遊技盤の枠は、遊技盤が容易に動揺しないように遊技盤を固定する構造のものであるこ\\nと。 \\n \\nガラス板等の構造に関する規格は、次のとおりとする。 \\n \\n遊技盤の全体の構造の見通しを妨げるものでないこと。 \\n \\n遊技盤上の遊技球の位置を確認することができるものであること。 \\n \\n凹凸がないこと。', metadata={'source': '/content/test.pdf', 'page': 10}),\n",
              " Document(page_content='別表第六 アレンジボール遊技機に係る技術上の規格（第六条関係）  \\n - 13 -    規 則  解釈基準  \\n(3)  \\n \\nイ  \\n \\n  \\nロ \\n  \\nハ \\n  \\n \\n  \\n \\n  \\nニ \\n  \\n \\n  \\n \\nホ  \\nヘ \\n   \\n \\n  \\n(ｲ) \\n(ﾛ)  \\n \\n  \\n \\n (ｲ) \\n \\n  \\n(ﾛ) \\n  \\n \\n (ｲ) \\n \\n (ﾛ)  材質に関する規格 \\n \\n遊技球の材質に関する規格は、次のとおりとする。 \\n \\n鋼製であること。 \\n均一の材質のものを用いること。 \\n \\n入球口の材質は、硬質プラスチックその他の材料で遊技球の落下その他の衝撃により破\\n損し、又はその形状が変形するものでないこと。  \\n遊技くぎ等の材質に関する規格は、次のとおりとする。 \\n \\n遊技くぎ及び風車の軸の材質は、ビッカーズ硬度が百五十 Hv 以上二百三十 Hv 以下であ\\nる硬度を有する真ちゅう又はこれと同等の硬度を有する金属で容易にさびず、かつ、折れ\\nない性質のものであること。  \\n遊技くぎ等（遊技くぎ及び風車の軸を除く。 ）の材質は、硬質プラスチックその他の材\\n料で遊技球の落下その他の衝撃により破損し、又はその形状が変形するものでないこと。  \\n遊技板の材質に関する規格は、次のとおりとする。 \\n \\n遊技板の材質は、合板材その他の材料で入球口及び遊技くぎ等を固定することができ、\\nかつ、容易に曲がらない程度の硬度と強度を有するものであること。 \\n \\n遊技板の表面は、滑らかで、均一の材質のものであること。 \\n \\n遊技盤の枠の材質は、遊技板と同等以上の硬度と強度を有するものであること。 \\n \\nガラス板等の材質は、ガラスその他の材料で透明であり、かつ、遊技球の落下その他の\\n衝撃により破損し、又はその形状が変形するものでないこと。', metadata={'source': '/content/test.pdf', 'page': 12})]"
            ]
          },
          "metadata": {},
          "execution_count": 21
        }
      ]
    },
    {
      "cell_type": "code",
      "source": [
        "print(\"step7\")\n",
        "# 得られた情報から回答を導き出すためのプロセスを以下の4つから選択する。いずれもProsとConsがあるため、適切なものを選択する必要がある。\n",
        "# staffing ... 得られた候補をそのままインプットとする\n",
        "# map_reduce ... 得られた候補のサマリをそれぞれ生成し、そのサマリのサマリを作ってインプットとする\n",
        "# map_rerank ... 得られた候補にそれぞれスコアを振って、いちばん高いものをインプットとして回答を得る\n",
        "# refine  ... 得られた候補のサマリを生成し、次にそのサマリと次の候補の様裏を作ることを繰り返す\n",
        "chain = load_qa_chain(OpenAI(temperature=0.1,max_tokens=1000), chain_type=\"stuff\")\n",
        "# p305に記載\n",
        "#query = \"ドライブのランプが赤色に点滅しているが、これは何が原因か？\"\n",
        "# p134に記載\n",
        "#query = \"どの様な時にメイン機が異常だと判断をしますか？\"\n",
        "query = \"パチンコとは\"\n",
        "docs = db.similarity_search(query)\n",
        "print(\"step8\")\n"
      ],
      "metadata": {
        "id": "Q0veOX1Zq59I",
        "outputId": "ec978a13-75fc-490a-8551-ec4d5e2fe6c1",
        "colab": {
          "base_uri": "https://localhost:8080/"
        }
      },
      "execution_count": null,
      "outputs": [
        {
          "output_type": "stream",
          "name": "stdout",
          "text": [
            "step7\n",
            "step8\n"
          ]
        }
      ]
    },
    {
      "cell_type": "code",
      "source": [
        "docs"
      ],
      "metadata": {
        "colab": {
          "base_uri": "https://localhost:8080/"
        },
        "id": "BtihASqgLFg8",
        "outputId": "ae08db1d-d656-43d6-b9ad-8cdf1c34740d"
      },
      "execution_count": null,
      "outputs": [
        {
          "output_type": "execute_result",
          "data": {
            "text/plain": [
              "[Document(page_content='別表第六 アレンジボール遊技機に係る技術上の規格（第六条関係）  \\n - 12 -    規 則  解釈基準  \\nヌ \\n \\n  \\n \\n  \\n \\nル   \\n \\n(ｲ)  \\n \\n(ﾛ)  \\n \\n  \\n 受け皿の構造に関する規格は、次のとおりとする。 \\n \\n遊技者が受け皿に受けた遊技メダル等を自由に取り出すことができる構造を有するもの\\nであること。 \\n \\n遊技者が受け皿に受けた遊技メダル等の数をおおむね確認することができる構造を有す\\nるものであること。 \\n \\n耐久性を有しない装置を設けないものであること。', metadata={'source': '/content/test.pdf', 'page': 11}),\n",
              " Document(page_content='別表第六 アレンジボール遊技機に係る技術上の規格（第六条関係）  \\n - 14 -    規 則  解釈基準  \\nト  イからヘまでに掲げるもののほか、遊技機の部品の材質は、温度又は湿度の通常の変化\\nにより変質し、又はその形状が変形するものでないこと｡', metadata={'source': '/content/test.pdf', 'page': 13}),\n",
              " Document(page_content='別表第六 アレンジボール遊技機に係る技術上の規格（第六条関係）  \\n - 11 -    規 則  解釈基準  \\nヘ \\n \\n  \\n \\n  \\n \\nト  \\n \\n  \\n \\n チ \\n \\n リ \\n \\n  \\n \\n  \\n \\n  \\n \\n   \\n \\n(ｲ)  \\n(ﾛ) \\n (ﾊ) \\n \\n  \\n(ｲ) \\n (ﾛ) \\n \\n  \\n \\n  \\n \\n(ｲ)  \\n(ﾛ) \\n (ﾊ) \\n \\n  \\n \\n  遊技板の構造に関する規格は、次のとおりとする。 \\n \\n遊技板は、ガラス板等と平行であること。 \\n \\n遊技板とガラス板等との距離は、十三㎜を超え、二十五㎜を超えないものであること。 \\n 凹凸がないこと。 \\n \\n入賞図柄表示装置の構造に関する規格は、次のとおりとする。 \\n \\n入賞図柄表示装置により表示される図柄の数は、十六であること。 \\n \\n入賞図柄表示装置により表示される図柄は、鮮明であり、かつ、遊技者に識別しやすい\\nものであること。 \\n \\n遊技盤の枠は、遊技盤が容易に動揺しないように遊技盤を固定する構造のものであるこ\\nと。 \\n \\nガラス板等の構造に関する規格は、次のとおりとする。 \\n \\n遊技盤の全体の構造の見通しを妨げるものでないこと。 \\n \\n遊技盤上の遊技球の位置を確認することができるものであること。 \\n \\n凹凸がないこと。', metadata={'source': '/content/test.pdf', 'page': 10}),\n",
              " Document(page_content='別表第六 アレンジボール遊技機に係る技術上の規格（第六条関係）  \\n - 13 -    規 則  解釈基準  \\n(3)  \\n \\nイ  \\n \\n  \\nロ \\n  \\nハ \\n  \\n \\n  \\n \\n  \\nニ \\n  \\n \\n  \\n \\nホ  \\nヘ \\n   \\n \\n  \\n(ｲ) \\n(ﾛ)  \\n \\n  \\n \\n (ｲ) \\n \\n  \\n(ﾛ) \\n  \\n \\n (ｲ) \\n \\n (ﾛ)  材質に関する規格 \\n \\n遊技球の材質に関する規格は、次のとおりとする。 \\n \\n鋼製であること。 \\n均一の材質のものを用いること。 \\n \\n入球口の材質は、硬質プラスチックその他の材料で遊技球の落下その他の衝撃により破\\n損し、又はその形状が変形するものでないこと。  \\n遊技くぎ等の材質に関する規格は、次のとおりとする。 \\n \\n遊技くぎ及び風車の軸の材質は、ビッカーズ硬度が百五十 Hv 以上二百三十 Hv 以下であ\\nる硬度を有する真ちゅう又はこれと同等の硬度を有する金属で容易にさびず、かつ、折れ\\nない性質のものであること。  \\n遊技くぎ等（遊技くぎ及び風車の軸を除く。 ）の材質は、硬質プラスチックその他の材\\n料で遊技球の落下その他の衝撃により破損し、又はその形状が変形するものでないこと。  \\n遊技板の材質に関する規格は、次のとおりとする。 \\n \\n遊技板の材質は、合板材その他の材料で入球口及び遊技くぎ等を固定することができ、\\nかつ、容易に曲がらない程度の硬度と強度を有するものであること。 \\n \\n遊技板の表面は、滑らかで、均一の材質のものであること。 \\n \\n遊技盤の枠の材質は、遊技板と同等以上の硬度と強度を有するものであること。 \\n \\nガラス板等の材質は、ガラスその他の材料で透明であり、かつ、遊技球の落下その他の\\n衝撃により破損し、又はその形状が変形するものでないこと。', metadata={'source': '/content/test.pdf', 'page': 12})]"
            ]
          },
          "metadata": {},
          "execution_count": 28
        }
      ]
    },
    {
      "cell_type": "code",
      "source": [
        "\n",
        "# langchainを使って検索\n",
        "chain.run(input_documents=docs, question=query)"
      ],
      "metadata": {
        "colab": {
          "base_uri": "https://localhost:8080/",
          "height": 36
        },
        "id": "zMki0qxWK-0U",
        "outputId": "0579cad6-9e88-431e-ee12-7f083f1103db"
      },
      "execution_count": null,
      "outputs": [
        {
          "output_type": "execute_result",
          "data": {
            "text/plain": [
              "\" I don't know.\""
            ],
            "application/vnd.google.colaboratory.intrinsic+json": {
              "type": "string"
            }
          },
          "metadata": {},
          "execution_count": 29
        }
      ]
    },
    {
      "cell_type": "code",
      "source": [
        "from IPython.display import display\n",
        "import ipywidgets as widgets"
      ],
      "metadata": {
        "id": "TlGaXRUCq3N5"
      },
      "execution_count": null,
      "outputs": []
    },
    {
      "cell_type": "code",
      "source": [
        "\n",
        "print(\"step9\")\n",
        "# vectordbをretrieverとして使うconversation chainを作成します。これはチャット履歴の管理も可能にします。\n",
        "qa = ConversationalRetrievalChain.from_llm(OpenAI(temperature=0.1), db.as_retriever())"
      ],
      "metadata": {
        "id": "svBUoTJadUVZ",
        "outputId": "e3bf0d37-fbcb-479d-c5ee-a4686070663e",
        "colab": {
          "base_uri": "https://localhost:8080/"
        }
      },
      "execution_count": null,
      "outputs": [
        {
          "output_type": "stream",
          "name": "stdout",
          "text": [
            "step9\n"
          ]
        }
      ]
    },
    {
      "cell_type": "code",
      "source": [
        "chat_history = []"
      ],
      "metadata": {
        "id": "4bkm8mPidbip"
      },
      "execution_count": null,
      "outputs": []
    },
    {
      "cell_type": "code",
      "source": [
        "print(\"step10\")\n",
        "def on_submit(_):\n",
        "    query = input_box.value\n",
        "    input_box.value = \"\"\n",
        "\n",
        "    if query.lower() == 'exit':\n",
        "        print(\"Thank you for using the State of the Union chatbot!\")\n",
        "        return\n",
        "\n",
        "    result = qa({\"question\": query, \"chat_history\": chat_history})\n",
        "    chat_history.append((query, result['answer']))\n",
        "\n",
        "    display(widgets.HTML(f'<b>User:</b> {query}'))\n",
        "    display(widgets.HTML(f'<b><font color=\"blue\">Chatbot:</font></b> {result[\"answer\"]}'))\n",
        "\n",
        "print(\"Welcome to the Transformers chatbot! Type 'exit' to stop.\")\n"
      ],
      "metadata": {
        "id": "cSQ4HL0KdbSb",
        "outputId": "47f97336-8700-4fce-d7ee-d7a2822d9a8c",
        "colab": {
          "base_uri": "https://localhost:8080/"
        }
      },
      "execution_count": null,
      "outputs": [
        {
          "output_type": "stream",
          "name": "stdout",
          "text": [
            "step10\n",
            "Welcome to the Transformers chatbot! Type 'exit' to stop.\n"
          ]
        }
      ]
    },
    {
      "cell_type": "code",
      "source": [
        "input_box = widgets.Text(placeholder='Please enter your question:')\n",
        "input_box.on_submit(on_submit)\n",
        "\n",
        "display(input_box)"
      ],
      "metadata": {
        "id": "WjhOxA1Xdasp",
        "outputId": "7589cce7-1729-4c44-9f9e-719f5ca5541b",
        "colab": {
          "base_uri": "https://localhost:8080/",
          "height": 109,
          "referenced_widgets": [
            "09ae48e868b14387bbb50b05c3a41136",
            "cb6b03ff0151487298d8821586b3a79b",
            "5011f7896bf24e7eb957d6c96c095612",
            "d7183f5b6a064a1f8b823855eb7b7552",
            "b80b39f1217046a183722ddc929c7114",
            "010d24204bad4decb76e2d3590f7fa5a",
            "a9bd5fc4a13d42e880a4191340913120",
            "1fcedc5a2aef4635a849be3ff114adc6",
            "575756f22f9543afaf97851640653a15"
          ]
        }
      },
      "execution_count": null,
      "outputs": [
        {
          "output_type": "display_data",
          "data": {
            "text/plain": [
              "Text(value='', placeholder='Please enter your question:')"
            ],
            "application/vnd.jupyter.widget-view+json": {
              "version_major": 2,
              "version_minor": 0,
              "model_id": "09ae48e868b14387bbb50b05c3a41136"
            }
          },
          "metadata": {}
        },
        {
          "output_type": "display_data",
          "data": {
            "text/plain": [
              "HTML(value='<b>User:</b> MEXCBTとは何ですか')"
            ],
            "application/vnd.jupyter.widget-view+json": {
              "version_major": 2,
              "version_minor": 0,
              "model_id": "d7183f5b6a064a1f8b823855eb7b7552"
            }
          },
          "metadata": {}
        },
        {
          "output_type": "display_data",
          "data": {
            "text/plain": [
              "HTML(value='<b><font color=\"blue\">Chatbot:</font></b>  MEXCBTは、メクビット学習システムのスタートアップガイドで、児童向けの学習プログラムです。')"
            ],
            "application/vnd.jupyter.widget-view+json": {
              "version_major": 2,
              "version_minor": 0,
              "model_id": "a9bd5fc4a13d42e880a4191340913120"
            }
          },
          "metadata": {}
        }
      ]
    },
    {
      "cell_type": "code",
      "source": [],
      "metadata": {
        "id": "wQA5zCuCdZny"
      },
      "execution_count": null,
      "outputs": []
    }
  ]
}