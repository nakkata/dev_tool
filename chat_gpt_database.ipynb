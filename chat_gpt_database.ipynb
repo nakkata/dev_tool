{
  "nbformat": 4,
  "nbformat_minor": 0,
  "metadata": {
    "colab": {
      "provenance": [],
      "include_colab_link": true
    },
    "kernelspec": {
      "name": "python3",
      "display_name": "Python 3"
    },
    "language_info": {
      "name": "python"
    },
    "widgets": {
      "application/vnd.jupyter.widget-state+json": {
        "09ae48e868b14387bbb50b05c3a41136": {
          "model_module": "@jupyter-widgets/controls",
          "model_name": "TextModel",
          "model_module_version": "1.5.0",
          "state": {
            "_dom_classes": [],
            "_model_module": "@jupyter-widgets/controls",
            "_model_module_version": "1.5.0",
            "_model_name": "TextModel",
            "_view_count": null,
            "_view_module": "@jupyter-widgets/controls",
            "_view_module_version": "1.5.0",
            "_view_name": "TextView",
            "continuous_update": true,
            "description": "",
            "description_tooltip": null,
            "disabled": false,
            "layout": "IPY_MODEL_cb6b03ff0151487298d8821586b3a79b",
            "placeholder": "Please enter your question:",
            "style": "IPY_MODEL_5011f7896bf24e7eb957d6c96c095612",
            "value": ""
          }
        },
        "cb6b03ff0151487298d8821586b3a79b": {
          "model_module": "@jupyter-widgets/base",
          "model_name": "LayoutModel",
          "model_module_version": "1.2.0",
          "state": {
            "_model_module": "@jupyter-widgets/base",
            "_model_module_version": "1.2.0",
            "_model_name": "LayoutModel",
            "_view_count": null,
            "_view_module": "@jupyter-widgets/base",
            "_view_module_version": "1.2.0",
            "_view_name": "LayoutView",
            "align_content": null,
            "align_items": null,
            "align_self": null,
            "border": null,
            "bottom": null,
            "display": null,
            "flex": null,
            "flex_flow": null,
            "grid_area": null,
            "grid_auto_columns": null,
            "grid_auto_flow": null,
            "grid_auto_rows": null,
            "grid_column": null,
            "grid_gap": null,
            "grid_row": null,
            "grid_template_areas": null,
            "grid_template_columns": null,
            "grid_template_rows": null,
            "height": null,
            "justify_content": null,
            "justify_items": null,
            "left": null,
            "margin": null,
            "max_height": null,
            "max_width": null,
            "min_height": null,
            "min_width": null,
            "object_fit": null,
            "object_position": null,
            "order": null,
            "overflow": null,
            "overflow_x": null,
            "overflow_y": null,
            "padding": null,
            "right": null,
            "top": null,
            "visibility": null,
            "width": null
          }
        },
        "5011f7896bf24e7eb957d6c96c095612": {
          "model_module": "@jupyter-widgets/controls",
          "model_name": "DescriptionStyleModel",
          "model_module_version": "1.5.0",
          "state": {
            "_model_module": "@jupyter-widgets/controls",
            "_model_module_version": "1.5.0",
            "_model_name": "DescriptionStyleModel",
            "_view_count": null,
            "_view_module": "@jupyter-widgets/base",
            "_view_module_version": "1.2.0",
            "_view_name": "StyleView",
            "description_width": ""
          }
        },
        "d7183f5b6a064a1f8b823855eb7b7552": {
          "model_module": "@jupyter-widgets/controls",
          "model_name": "HTMLModel",
          "model_module_version": "1.5.0",
          "state": {
            "_dom_classes": [],
            "_model_module": "@jupyter-widgets/controls",
            "_model_module_version": "1.5.0",
            "_model_name": "HTMLModel",
            "_view_count": null,
            "_view_module": "@jupyter-widgets/controls",
            "_view_module_version": "1.5.0",
            "_view_name": "HTMLView",
            "description": "",
            "description_tooltip": null,
            "layout": "IPY_MODEL_b80b39f1217046a183722ddc929c7114",
            "placeholder": "​",
            "style": "IPY_MODEL_010d24204bad4decb76e2d3590f7fa5a",
            "value": "<b>User:</b> MEXCBTとは何ですか"
          }
        },
        "b80b39f1217046a183722ddc929c7114": {
          "model_module": "@jupyter-widgets/base",
          "model_name": "LayoutModel",
          "model_module_version": "1.2.0",
          "state": {
            "_model_module": "@jupyter-widgets/base",
            "_model_module_version": "1.2.0",
            "_model_name": "LayoutModel",
            "_view_count": null,
            "_view_module": "@jupyter-widgets/base",
            "_view_module_version": "1.2.0",
            "_view_name": "LayoutView",
            "align_content": null,
            "align_items": null,
            "align_self": null,
            "border": null,
            "bottom": null,
            "display": null,
            "flex": null,
            "flex_flow": null,
            "grid_area": null,
            "grid_auto_columns": null,
            "grid_auto_flow": null,
            "grid_auto_rows": null,
            "grid_column": null,
            "grid_gap": null,
            "grid_row": null,
            "grid_template_areas": null,
            "grid_template_columns": null,
            "grid_template_rows": null,
            "height": null,
            "justify_content": null,
            "justify_items": null,
            "left": null,
            "margin": null,
            "max_height": null,
            "max_width": null,
            "min_height": null,
            "min_width": null,
            "object_fit": null,
            "object_position": null,
            "order": null,
            "overflow": null,
            "overflow_x": null,
            "overflow_y": null,
            "padding": null,
            "right": null,
            "top": null,
            "visibility": null,
            "width": null
          }
        },
        "010d24204bad4decb76e2d3590f7fa5a": {
          "model_module": "@jupyter-widgets/controls",
          "model_name": "DescriptionStyleModel",
          "model_module_version": "1.5.0",
          "state": {
            "_model_module": "@jupyter-widgets/controls",
            "_model_module_version": "1.5.0",
            "_model_name": "DescriptionStyleModel",
            "_view_count": null,
            "_view_module": "@jupyter-widgets/base",
            "_view_module_version": "1.2.0",
            "_view_name": "StyleView",
            "description_width": ""
          }
        },
        "a9bd5fc4a13d42e880a4191340913120": {
          "model_module": "@jupyter-widgets/controls",
          "model_name": "HTMLModel",
          "model_module_version": "1.5.0",
          "state": {
            "_dom_classes": [],
            "_model_module": "@jupyter-widgets/controls",
            "_model_module_version": "1.5.0",
            "_model_name": "HTMLModel",
            "_view_count": null,
            "_view_module": "@jupyter-widgets/controls",
            "_view_module_version": "1.5.0",
            "_view_name": "HTMLView",
            "description": "",
            "description_tooltip": null,
            "layout": "IPY_MODEL_1fcedc5a2aef4635a849be3ff114adc6",
            "placeholder": "​",
            "style": "IPY_MODEL_575756f22f9543afaf97851640653a15",
            "value": "<b><font color=\"blue\">Chatbot:</font></b>  MEXCBTは、メクビット学習システムのスタートアップガイドで、児童向けの学習プログラムです。"
          }
        },
        "1fcedc5a2aef4635a849be3ff114adc6": {
          "model_module": "@jupyter-widgets/base",
          "model_name": "LayoutModel",
          "model_module_version": "1.2.0",
          "state": {
            "_model_module": "@jupyter-widgets/base",
            "_model_module_version": "1.2.0",
            "_model_name": "LayoutModel",
            "_view_count": null,
            "_view_module": "@jupyter-widgets/base",
            "_view_module_version": "1.2.0",
            "_view_name": "LayoutView",
            "align_content": null,
            "align_items": null,
            "align_self": null,
            "border": null,
            "bottom": null,
            "display": null,
            "flex": null,
            "flex_flow": null,
            "grid_area": null,
            "grid_auto_columns": null,
            "grid_auto_flow": null,
            "grid_auto_rows": null,
            "grid_column": null,
            "grid_gap": null,
            "grid_row": null,
            "grid_template_areas": null,
            "grid_template_columns": null,
            "grid_template_rows": null,
            "height": null,
            "justify_content": null,
            "justify_items": null,
            "left": null,
            "margin": null,
            "max_height": null,
            "max_width": null,
            "min_height": null,
            "min_width": null,
            "object_fit": null,
            "object_position": null,
            "order": null,
            "overflow": null,
            "overflow_x": null,
            "overflow_y": null,
            "padding": null,
            "right": null,
            "top": null,
            "visibility": null,
            "width": null
          }
        },
        "575756f22f9543afaf97851640653a15": {
          "model_module": "@jupyter-widgets/controls",
          "model_name": "DescriptionStyleModel",
          "model_module_version": "1.5.0",
          "state": {
            "_model_module": "@jupyter-widgets/controls",
            "_model_module_version": "1.5.0",
            "_model_name": "DescriptionStyleModel",
            "_view_count": null,
            "_view_module": "@jupyter-widgets/base",
            "_view_module_version": "1.2.0",
            "_view_name": "StyleView",
            "description_width": ""
          }
        }
      }
    }
  },
  "cells": [
    {
      "cell_type": "markdown",
      "metadata": {
        "id": "view-in-github",
        "colab_type": "text"
      },
      "source": [
        "<a href=\"https://colab.research.google.com/github/nakkata/dev_tool/blob/main/chat_gpt_database.ipynb\" target=\"_parent\"><img src=\"https://colab.research.google.com/assets/colab-badge.svg\" alt=\"Open In Colab\"/></a>"
      ]
    },
    {
      "cell_type": "markdown",
      "source": [
        "# チャットGPTで社内ドキュメントの解析エンジンを作る"
      ],
      "metadata": {
        "id": "wZ3_7xOXqCEI"
      }
    },
    {
      "cell_type": "code",
      "source": [
        "# ChatGPTで解析\n",
        "!pip install openai==0.28.0\n",
        "!pip install pandas\n",
        "!pip install transformers==4.32.1\n",
        "!pip install langchain==0.0.279\n",
        "#!pip install beautifulsoup4==4.11.2\n",
        "!pip install textract\n",
        "#!pip install codecs\n",
        "#!pip install six==1.13.0\n",
        "!pip install requests\n",
        "!pip install pypdf\n",
        "!pip install tiktoken\n",
        "!pip install faiss-gpu\n",
        "\n",
        "# Webアプリ化\n",
        "!pip install streamlit==1.20.0 --quiet\n",
        "!pip install pyngrok==4.1.1 --quiet"
      ],
      "metadata": {
        "id": "AF7oS8SBp_bT"
      },
      "execution_count": null,
      "outputs": []
    },
    {
      "cell_type": "code",
      "source": [
        "# ChatGPTで解析\n",
        "import os\n",
        "import pandas as pd\n",
        "import requests\n",
        "import textract\n",
        "import codecs\n",
        "from bs4 import BeautifulSoup\n",
        "import matplotlib.pyplot as plt\n",
        "from transformers import GPT2TokenizerFast\n",
        "from langchain.document_loaders import PyPDFLoader\n",
        "from langchain.text_splitter import RecursiveCharacterTextSplitter\n",
        "from langchain.embeddings import OpenAIEmbeddings\n",
        "from langchain.vectorstores import FAISS\n",
        "from langchain.chains.question_answering import load_qa_chain\n",
        "from langchain.llms import OpenAI\n",
        "from langchain.chains import ConversationalRetrievalChain\n",
        "\n",
        "# Webアプリ化\n",
        "import streamlit as st\n",
        "from pyngrok import ngrok\n",
        "import openai"
      ],
      "metadata": {
        "id": "GisyNrHnqBHo"
      },
      "execution_count": null,
      "outputs": []
    },
    {
      "cell_type": "code",
      "source": [
        "%%writefile app.py\n",
        "# 以下を「app.py」に書き込み\n",
        "import streamlit as st\n",
        "import openai\n",
        "import secret_keys  # 外部ファイルにAPI keyを保存\n",
        "\n",
        "openai.api_key = secret_keys.openai_api_key\n",
        "\n",
        "system_prompt = \"\"\"\n",
        "あなたは優秀なアシスタントです。\n",
        "質問に対して適切な対処法のアドバイスを行ってください。\n",
        "以下のようなことを聞かれても、絶対に答えないでください。\n",
        "\n",
        "* 旅行\n",
        "* 料理\n",
        "* 芸能人\n",
        "* 映画\n",
        "* 科学\n",
        "* 歴史\n",
        "\"\"\"\n",
        "\n",
        "# st.session_stateを使いメッセージのやりとりを保存\n",
        "if \"messages\" not in st.session_state:\n",
        "    st.session_state[\"messages\"] = [\n",
        "        {\"role\": \"system\", \"content\": system_prompt}\n",
        "        ]\n",
        "\n",
        "# チャットボットとやりとりする関数\n",
        "def communicate():\n",
        "    messages = st.session_state[\"messages\"]\n",
        "\n",
        "    user_message = {\"role\": \"user\", \"content\": st.session_state[\"user_input\"]}\n",
        "    messages.append(user_message)\n",
        "\n",
        "    response = openai.ChatCompletion.create(\n",
        "        model=\"gpt-3.5-turbo\",\n",
        "        messages=messages\n",
        "    )\n",
        "\n",
        "    bot_message = response[\"choices\"][0][\"message\"]\n",
        "    messages.append(bot_message)\n",
        "\n",
        "    st.session_state[\"user_input\"] = \"\"  # 入力欄を消去\n",
        "\n",
        "\n",
        "# インターネット上からマニュアルファイルをダウンロード（BuffaloTerastation)\n",
        "url = 'https://support2.mexcbt.mext.go.jp/files/MEXCBT簡易マニュアル_児童編（OPE）_第4版.pdf'\n",
        "response = requests.get(url)\n",
        "\n",
        "loader = PyPDFLoader(\"/content/sample_document1.pdf\")\n",
        "pages = loader.load_and_split()\n",
        "\n",
        "chunks = pages\n",
        "print(\"step2\")\n",
        "\n",
        "\n",
        "# Get embedding model\n",
        "embeddings = OpenAIEmbeddings()\n",
        "\n",
        "\n",
        "#  vector databaseの作成\n",
        "db = FAISS.from_documents(chunks, embeddings)\n",
        "\n",
        "query = \"自治体コード入力画面とは？\"\n",
        "# FAISSに対して検索。検索は文字一致ではなく意味一致で検索する(Vector, Embbeding)\n",
        "docs = db.similarity_search(query)\n",
        "docs # ここで関係のありそうなデータが返ってきていることを確認できる\n",
        "\n",
        "print(\"step7\")\n",
        "# 得られた情報から回答を導き出すためのプロセスを以下の4つから選択する。いずれもProsとConsがあるため、適切なものを選択する必要がある。\n",
        "# staffing ... 得られた候補をそのままインプットとする\n",
        "# map_reduce ... 得られた候補のサマリをそれぞれ生成し、そのサマリのサマリを作ってインプットとする\n",
        "# map_rerank ... 得られた候補にそれぞれスコアを振って、いちばん高いものをインプットとして回答を得る\n",
        "# refine  ... 得られた候補のサマリを生成し、次にそのサマリと次の候補の様裏を作ることを繰り返す\n",
        "chain = load_qa_chain(OpenAI(temperature=0.1,max_tokens=1000), chain_type=\"stuff\")\n",
        "# p305に記載\n",
        "#query = \"ドライブのランプが赤色に点滅しているが、これは何が原因か？\"\n",
        "# p134に記載\n",
        "#query = \"どの様な時にメイン機が異常だと判断をしますか？\"\n",
        "query = \"ログイン方法を教えてください。\"\n",
        "docs = db.similarity_search(query)\n",
        "print(\"step8\")\n",
        "# langchainを使って検索\n",
        "chain.run(input_documents=docs, question=query)\n",
        "\n",
        "from IPython.display import display\n",
        "import ipywidgets as widgets\n",
        "\n",
        "print(\"step9\")\n",
        "# vectordbをretrieverとして使うconversation chainを作成します。これはチャット履歴の管理も可能にします。\n",
        "qa = ConversationalRetrievalChain.from_llm(OpenAI(temperature=0.1), db.as_retriever())\n",
        "\n",
        "chat_history = []\n",
        "\n",
        "# print(\"step10\")\n",
        "# def on_submit(_):\n",
        "#     query = input_box.value\n",
        "#     input_box.value = \"\"\n",
        "#\n",
        "#     if query.lower() == 'exit':\n",
        "#         print(\"Thank you for using the State of the Union chatbot!\")\n",
        "#         return\n",
        "#\n",
        "#     result = qa({\"question\": query, \"chat_history\": chat_history})\n",
        "#     chat_history.append((query, result['answer']))\n",
        "\n",
        "# ユーザーインターフェイスの構築\n",
        "st.title(\" 「英語講師」ボット\")\n",
        "st.image(\"03_english.png\")\n",
        "st.write(\"Let's enjoy English!\")\n",
        "\n",
        "user_input = st.text_input(\"メッセージを入力してください。\", key=\"user_input\", on_change=communicate)\n",
        "\n",
        "if st.session_state[\"messages\"]:\n",
        "    messages = st.session_state[\"messages\"]\n",
        "\n",
        "    for message in reversed(messages[1:]):  # 直近のメッセージを上に\n",
        "        speaker = \"🙂\"\n",
        "        if message[\"role\"]==\"assistant\":\n",
        "            speaker=\"🤖\"\n",
        "\n",
        "        st.write(speaker + \": \" + message[\"content\"])"
      ],
      "metadata": {
        "id": "1lxRIGL0z-HA"
      },
      "execution_count": null,
      "outputs": []
    },
    {
      "cell_type": "code",
      "source": [
        "\n",
        "# ここにOpenAIから取得したキーを設定します。\n",
        "os.environ[\"OPENAI_API_KEY\"] = ''"
      ],
      "metadata": {
        "id": "4MFsSYFvqBMg"
      },
      "execution_count": null,
      "outputs": []
    },
    {
      "cell_type": "code",
      "source": [
        "# 社内用で使う時はここをコメントアウト\n",
        "## proxyの設定\n",
        "#os.environ[\"HTTP_PROXY\"] = \"http://10.40.210.120:8080\"\n",
        "#os.environ[\"HTTPS_PROXY\"] = \"http://10.40.210.120:8080\""
      ],
      "metadata": {
        "id": "OVwxhKtCqBPI"
      },
      "execution_count": null,
      "outputs": []
    },
    {
      "cell_type": "code",
      "source": [
        "\n",
        "# LLMの設定\n",
        "llm = OpenAI(model_name=\"gpt-3.5-turbo\")"
      ],
      "metadata": {
        "id": "RHZL2jF_qBR4",
        "outputId": "ff8903ce-edf6-4bcc-e1c4-58a6a14e772d",
        "colab": {
          "base_uri": "https://localhost:8080/"
        }
      },
      "execution_count": null,
      "outputs": [
        {
          "output_type": "stream",
          "name": "stderr",
          "text": [
            "/usr/local/lib/python3.10/dist-packages/langchain/llms/openai.py:200: UserWarning: You are trying to use a chat model. This way of initializing it is no longer supported. Instead, please use: `from langchain.chat_models import ChatOpenAI`\n",
            "  warnings.warn(\n",
            "/usr/local/lib/python3.10/dist-packages/langchain/llms/openai.py:787: UserWarning: You are trying to use a chat model. This way of initializing it is no longer supported. Instead, please use: `from langchain.chat_models import ChatOpenAI`\n",
            "  warnings.warn(\n"
          ]
        }
      ]
    },
    {
      "cell_type": "code",
      "source": [
        "\n",
        "# インターネット上からマニュアルファイルをダウンロード（BuffaloTerastation)\n",
        "url = 'https://support2.mexcbt.mext.go.jp/files/MEXCBT簡易マニュアル_児童編（OPE）_第4版.pdf'\n",
        "response = requests.get(url)"
      ],
      "metadata": {
        "id": "aNmU7cHoqBUw"
      },
      "execution_count": null,
      "outputs": []
    },
    {
      "cell_type": "code",
      "source": [
        "# Ensure that the request was successful\n",
        "if response.status_code == 200:\n",
        "    # Save the content of the response as a PDF file\n",
        "    with open('sample_document1.pdf', 'wb') as file:\n",
        "        file.write(response.content)\n",
        "else:\n",
        "    print(\"Error: Unable to download the PDF file. Status code:\", response.status_code)"
      ],
      "metadata": {
        "id": "0flq9nwSqBYB"
      },
      "execution_count": null,
      "outputs": []
    },
    {
      "cell_type": "code",
      "source": [
        "loader = PyPDFLoader(\"/content/sample_document1.pdf\")\n",
        "pages = loader.load_and_split()"
      ],
      "metadata": {
        "id": "HTAKVgnxq27o"
      },
      "execution_count": null,
      "outputs": []
    },
    {
      "cell_type": "code",
      "source": [
        "chunks = pages\n",
        "print(\"step2\")"
      ],
      "metadata": {
        "id": "TvPV37NWq3EQ",
        "outputId": "f4a7de4e-432d-4439-acce-c664aa9ce30a",
        "colab": {
          "base_uri": "https://localhost:8080/"
        }
      },
      "execution_count": null,
      "outputs": [
        {
          "output_type": "stream",
          "name": "stdout",
          "text": [
            "step2\n"
          ]
        }
      ]
    },
    {
      "cell_type": "code",
      "source": [
        "\n",
        "# Get embedding model\n",
        "embeddings = OpenAIEmbeddings()\n"
      ],
      "metadata": {
        "id": "XkFsvE0dq3Hq"
      },
      "execution_count": null,
      "outputs": []
    },
    {
      "cell_type": "code",
      "source": [
        "\n",
        "#  vector databaseの作成\n",
        "db = FAISS.from_documents(chunks, embeddings)"
      ],
      "metadata": {
        "id": "ln9laRo6q3LB"
      },
      "execution_count": null,
      "outputs": []
    },
    {
      "cell_type": "code",
      "source": [
        "query = \"自治体コード入力画面とは？\"\n",
        "# FAISSに対して検索。検索は文字一致ではなく意味一致で検索する(Vector, Embbeding)\n",
        "docs = db.similarity_search(query)\n",
        "docs # ここで関係のありそうなデータが返ってきていることを確認できる\n"
      ],
      "metadata": {
        "id": "HKel9LCRq6w4",
        "colab": {
          "base_uri": "https://localhost:8080/"
        },
        "outputId": "7ef9f41c-5d6b-4e5e-abf0-c7c333d062b5"
      },
      "execution_count": null,
      "outputs": [
        {
          "output_type": "execute_result",
          "data": {
            "text/plain": [
              "[Document(page_content='児童\\n１.ポータルシステムを表示するつか\\n使い方 1かたMEXCB T（メクビット ）学習システム\\nスタートアップガイド\\n②\\n②\\n③\\n③\\n②自治体コード入力画面が表示されますので、自治体コードに先生から\\n聞いた情報を入力し、［ログイン］をクリックします。\\n③ログイン画面が表示されますので、学校名・学年・ＩＤ・パスワードに\\n先生から聞いた情報を入力し、［ログイン］をクリックすると、\\nポータルシステムへログインされ、ポータルシステム画面が表示されます。じょうほうアイディじょうほうじちたい じちたい\\nき\\nひょうじひょうじ がめん\\nがめんにゅうりょくき ひょうじ がめん ほうほう つぎ ばあい せんせい\\nじょうほう\\n先生から聞いた情報を入力し ､\\nログインしますき せんせい\\n先生から聞いた情報を入力し ､\\nログインしますじょうほう き せんせい\\nせんせい\\nがっこうめい\\nせんせい きひょうじ\\nじどう\\n①Google Chrome を選択し、ポータルシステムを表示します。\\n次の画面が表示されない場合には、アクセス方法を先生に聞いてください。ひょうじ せんたく\\nにゅうりょくにゅうりょく\\nにゅうりょくがめんがくしゅう', metadata={'source': '/content/sample_document1.pdf', 'page': 0}),\n",
              " Document(page_content='児童がくしゅう\\n２. ポータルから「 MEXCBT( メクビット )学習システム」を表示するがくしゅう ひょうじつか\\n使い方 2かたMEXCB T（メクビット ）学習システム\\nスタートアップガイド\\nじどう\\n［MEXCBT 学習システム］\\nが表示されますので\\nクリックしますがくしゅう\\nひょうじ［その他］\\nをクリックしますた\\n複数の教科が登録されている場合、「国語」のような他の教科アイコンも表示されます。\\n登録されている教科の数が多く、「その他」アイコンが見つからない場合、\\nコルクボード右上の「 （次ページに進む）／ （前ページへ戻る）」をクリックし、\\n「その他」アイコンをお探しください。\\nふくすう きょうか とうろく ばあい こくご ほか ひょうじ きょうか\\nつぎとうろく きょうか おお た\\nたみ\\nみぎうえばあい\\nすす まえ もど\\nさがかず\\nえら\\n３.テストを選ぶ\\n④［学習予定］タブをクリックすると、問題一覧が表示されます。\\n表示された問題が多い時など、解答したい問題がすぐに見つからない場合は、\\n［けんさく］機能を使います。検索条件を指定して［けんさく］をクリックすると、\\n条件にあった問題のみ表示されます。がくしゅう よてい もんだい いちらん ひょうじ\\nじょうけんけんさくじょうけん\\nもんだいひょうじ もんだい もんだい\\nつか\\nひょうじばあい\\nしていかいとう④ ④検索条件を指定して\\n[けんさく ]をクリック\\nすると条件で絞れますけんさくじょうけん してい\\nじょうけん しぼ\\nきのう', metadata={'source': '/content/sample_document1.pdf', 'page': 1}),\n",
              " Document(page_content='児童がくしゅう\\nMEXCB T（メクビット ）学習システム\\nスタートアップガイド\\nつか\\n使い方 8かた\\n注意）\\nテストの問題 /結果を閉じる\\n⑨\\n⑨タブの［ ×］\\nをクリックウィンドウの［ ×］で\\n閉じるとプログラムを終了して\\nしまうのでご注意ください\\n⑨最後の問題を解答し、 をクリックしたとき、または、\\n結果を見終わったあとは、タブの［ ×］をクリックして閉じてください。\\n◎結果を確認し見終わったとき◎最後の問題を解答し終了したときMEXCBT の画面\\nかいとう もんだい さいご\\nけっか みお とみお けっか かくにんさいご もんだい かいとう しゅうりょうしゅうりょう と\\nちゅういと もんだい けっか\\nじどう\\nしゅうりょう', metadata={'source': '/content/sample_document1.pdf', 'page': 7}),\n",
              " Document(page_content='MEXCB T（メクビット ）学習システム\\nスタートアップガイドがくしゅう\\n児童\\nじどう\\n７. ポータルから「ダッシュボードシステム」を表示する\\n８. テストデータを確認する\\n［条件検索］をクリックし、［期間］を指定\\nして［検索］ボタンをクリックすると、\\n対象の期間内の学習履歴を参照できます。得点率グラフが表示され、\\nクラス平均や学年平均と比較できます\\n［ダッシュボード］\\nが表示されますので\\nクリックしますひょうじ［その他］\\nをクリックしますた\\n複数の教科が登録されている場合、「国語」のような他の教科アイコンも表示されます。\\n登録されている教科の数が多く、「その他」アイコンが見つからない場合、\\nコルクボード右上の「 （次ページに進む）／ （前ページへ戻る）」をクリックし、\\n「その他」アイコンをお探しください。\\nふくすう きょうか とうろく ばあい こくご ほか ひょうじ きょうか\\nつぎとうろく きょうか おお た\\nたみ\\nみぎうえばあい\\nすす まえ もど\\nさがかず\\nつか\\n使い方 9かた\\nダッシュボード\\nとくてんりつ ひょうじ\\nへいきん がくねんへいきん ひかく\\nじょうけんけんさく\\nけんさくきかん してい\\nたいしょう きかんない がくしゅうりれき さんしょうひょうじ\\nかくにん', metadata={'source': '/content/sample_document1.pdf', 'page': 8})]"
            ]
          },
          "metadata": {},
          "execution_count": 12
        }
      ]
    },
    {
      "cell_type": "code",
      "source": [
        "print(\"step7\")\n",
        "# 得られた情報から回答を導き出すためのプロセスを以下の4つから選択する。いずれもProsとConsがあるため、適切なものを選択する必要がある。\n",
        "# staffing ... 得られた候補をそのままインプットとする\n",
        "# map_reduce ... 得られた候補のサマリをそれぞれ生成し、そのサマリのサマリを作ってインプットとする\n",
        "# map_rerank ... 得られた候補にそれぞれスコアを振って、いちばん高いものをインプットとして回答を得る\n",
        "# refine  ... 得られた候補のサマリを生成し、次にそのサマリと次の候補の様裏を作ることを繰り返す\n",
        "chain = load_qa_chain(OpenAI(temperature=0.1,max_tokens=1000), chain_type=\"stuff\")\n",
        "# p305に記載\n",
        "#query = \"ドライブのランプが赤色に点滅しているが、これは何が原因か？\"\n",
        "# p134に記載\n",
        "#query = \"どの様な時にメイン機が異常だと判断をしますか？\"\n",
        "query = \"ログイン方法を教えてください。\"\n",
        "docs = db.similarity_search(query)\n",
        "print(\"step8\")\n",
        "# langchainを使って検索\n",
        "chain.run(input_documents=docs, question=query)\n"
      ],
      "metadata": {
        "id": "Q0veOX1Zq59I",
        "outputId": "00ffd58a-20a0-4752-c3a1-5b61f1d8c573",
        "colab": {
          "base_uri": "https://localhost:8080/",
          "height": 91
        }
      },
      "execution_count": null,
      "outputs": [
        {
          "output_type": "stream",
          "name": "stdout",
          "text": [
            "step7\n",
            "step8\n"
          ]
        },
        {
          "output_type": "execute_result",
          "data": {
            "text/plain": [
              "' 先生から聞いた情報を入力し、自治体コード入力画面で自治体コードを入力し、次に学校名・学年・ＩＤ・パスワードを入力し、［ログイン］をクリックすると、ポータルシステムへログインされ、ポータルシステム画面が表示されます。'"
            ],
            "application/vnd.google.colaboratory.intrinsic+json": {
              "type": "string"
            }
          },
          "metadata": {},
          "execution_count": 15
        }
      ]
    },
    {
      "cell_type": "code",
      "source": [
        "from IPython.display import display\n",
        "import ipywidgets as widgets"
      ],
      "metadata": {
        "id": "TlGaXRUCq3N5"
      },
      "execution_count": null,
      "outputs": []
    },
    {
      "cell_type": "code",
      "source": [
        "\n",
        "print(\"step9\")\n",
        "# vectordbをretrieverとして使うconversation chainを作成します。これはチャット履歴の管理も可能にします。\n",
        "qa = ConversationalRetrievalChain.from_llm(OpenAI(temperature=0.1), db.as_retriever())"
      ],
      "metadata": {
        "id": "svBUoTJadUVZ",
        "outputId": "e3bf0d37-fbcb-479d-c5ee-a4686070663e",
        "colab": {
          "base_uri": "https://localhost:8080/"
        }
      },
      "execution_count": null,
      "outputs": [
        {
          "output_type": "stream",
          "name": "stdout",
          "text": [
            "step9\n"
          ]
        }
      ]
    },
    {
      "cell_type": "code",
      "source": [
        "chat_history = []"
      ],
      "metadata": {
        "id": "4bkm8mPidbip"
      },
      "execution_count": null,
      "outputs": []
    },
    {
      "cell_type": "code",
      "source": [
        "print(\"step10\")\n",
        "def on_submit(_):\n",
        "    query = input_box.value\n",
        "    input_box.value = \"\"\n",
        "\n",
        "    if query.lower() == 'exit':\n",
        "        print(\"Thank you for using the State of the Union chatbot!\")\n",
        "        return\n",
        "\n",
        "    result = qa({\"question\": query, \"chat_history\": chat_history})\n",
        "    chat_history.append((query, result['answer']))\n",
        "\n",
        "    display(widgets.HTML(f'<b>User:</b> {query}'))\n",
        "    display(widgets.HTML(f'<b><font color=\"blue\">Chatbot:</font></b> {result[\"answer\"]}'))\n",
        "\n",
        "print(\"Welcome to the Transformers chatbot! Type 'exit' to stop.\")\n"
      ],
      "metadata": {
        "id": "cSQ4HL0KdbSb",
        "outputId": "47f97336-8700-4fce-d7ee-d7a2822d9a8c",
        "colab": {
          "base_uri": "https://localhost:8080/"
        }
      },
      "execution_count": null,
      "outputs": [
        {
          "output_type": "stream",
          "name": "stdout",
          "text": [
            "step10\n",
            "Welcome to the Transformers chatbot! Type 'exit' to stop.\n"
          ]
        }
      ]
    },
    {
      "cell_type": "code",
      "source": [
        "input_box = widgets.Text(placeholder='Please enter your question:')\n",
        "input_box.on_submit(on_submit)\n",
        "\n",
        "display(input_box)"
      ],
      "metadata": {
        "id": "WjhOxA1Xdasp",
        "outputId": "7589cce7-1729-4c44-9f9e-719f5ca5541b",
        "colab": {
          "base_uri": "https://localhost:8080/",
          "height": 109,
          "referenced_widgets": [
            "09ae48e868b14387bbb50b05c3a41136",
            "cb6b03ff0151487298d8821586b3a79b",
            "5011f7896bf24e7eb957d6c96c095612",
            "d7183f5b6a064a1f8b823855eb7b7552",
            "b80b39f1217046a183722ddc929c7114",
            "010d24204bad4decb76e2d3590f7fa5a",
            "a9bd5fc4a13d42e880a4191340913120",
            "1fcedc5a2aef4635a849be3ff114adc6",
            "575756f22f9543afaf97851640653a15"
          ]
        }
      },
      "execution_count": null,
      "outputs": [
        {
          "output_type": "display_data",
          "data": {
            "text/plain": [
              "Text(value='', placeholder='Please enter your question:')"
            ],
            "application/vnd.jupyter.widget-view+json": {
              "version_major": 2,
              "version_minor": 0,
              "model_id": "09ae48e868b14387bbb50b05c3a41136"
            }
          },
          "metadata": {}
        },
        {
          "output_type": "display_data",
          "data": {
            "text/plain": [
              "HTML(value='<b>User:</b> MEXCBTとは何ですか')"
            ],
            "application/vnd.jupyter.widget-view+json": {
              "version_major": 2,
              "version_minor": 0,
              "model_id": "d7183f5b6a064a1f8b823855eb7b7552"
            }
          },
          "metadata": {}
        },
        {
          "output_type": "display_data",
          "data": {
            "text/plain": [
              "HTML(value='<b><font color=\"blue\">Chatbot:</font></b>  MEXCBTは、メクビット学習システムのスタートアップガイドで、児童向けの学習プログラムです。')"
            ],
            "application/vnd.jupyter.widget-view+json": {
              "version_major": 2,
              "version_minor": 0,
              "model_id": "a9bd5fc4a13d42e880a4191340913120"
            }
          },
          "metadata": {}
        }
      ]
    },
    {
      "cell_type": "code",
      "source": [],
      "metadata": {
        "id": "wQA5zCuCdZny"
      },
      "execution_count": null,
      "outputs": []
    }
  ]
}